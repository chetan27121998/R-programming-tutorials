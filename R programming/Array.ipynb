{
 "cells": [
  {
   "cell_type": "markdown",
   "id": "ce8400c6",
   "metadata": {},
   "source": [
    "#### R Arrays\n",
    "      In R, arrays are the data objects which allow us to store data in more than two dimensions. In R, an array is created with the help of the array() function. This array() function takes a vector as an input and to create an array it uses vectors values in the dim parameter.\n",
    "\n",
    "###### For example- \n",
    "    if we will create an array of dimension (2, 3, 4) then it will create 4 rectangular matrices of 2 row and 3 columns."
   ]
  },
  {
   "cell_type": "code",
   "execution_count": 2,
   "id": "e15f39cf",
   "metadata": {},
   "outputs": [],
   "source": [
    "# Array in R program : work on 2 dimension\n",
    "# 2 Dimension mean matrix\n",
    "# Array : to hold more than 2 matrix\n",
    "# Syntax : array (data , dim= (nrow,ncol, no. of matrix))"
   ]
  },
  {
   "cell_type": "code",
   "execution_count": 3,
   "id": "af29a905",
   "metadata": {},
   "outputs": [
    {
     "name": "stdout",
     "output_type": "stream",
     "text": [
      ", , 1\n",
      "\n",
      "     [,1] [,2] [,3]\n",
      "[1,]    5   10   13\n",
      "[2,]    9   11   14\n",
      "[3,]    3   12   15\n",
      "\n",
      ", , 2\n",
      "\n",
      "     [,1] [,2] [,3]\n",
      "[1,]    5   10   13\n",
      "[2,]    9   11   14\n",
      "[3,]    3   12   15\n",
      "\n"
     ]
    }
   ],
   "source": [
    "# Create 2 Vector v1 and v2 of different length\n",
    "v1 = c(5,9,3)\n",
    "v2 = c(10,11,12,13,14,15)\n",
    "result  = array(c(v1,v2),dim=c(3,3,2))\n",
    "print(result)"
   ]
  },
  {
   "cell_type": "code",
   "execution_count": 4,
   "id": "c501936b",
   "metadata": {},
   "outputs": [
    {
     "data": {
      "text/html": [
       "10"
      ],
      "text/latex": [
       "10"
      ],
      "text/markdown": [
       "10"
      ],
      "text/plain": [
       "[1] 10"
      ]
     },
     "metadata": {},
     "output_type": "display_data"
    }
   ],
   "source": [
    "result[1,2,2]"
   ]
  },
  {
   "cell_type": "code",
   "execution_count": 5,
   "id": "c70d3f1d",
   "metadata": {},
   "outputs": [
    {
     "name": "stdout",
     "output_type": "stream",
     "text": [
      ", , matrix1\n",
      "\n",
      "     col1 col2 col3\n",
      "row1    5   10   13\n",
      "row2    9   11   14\n",
      "row3    3   12   15\n",
      "\n",
      ", , matrix2\n",
      "\n",
      "     col1 col2 col3\n",
      "row1    5   10   13\n",
      "row2    9   11   14\n",
      "row3    3   12   15\n",
      "\n"
     ]
    }
   ],
   "source": [
    "# Naming columns and row and matrix name\n",
    "# Create 2 Vector v1 and v2 of different length\n",
    "v3 = c(5,9,3)\n",
    "v4 = c(10,11,12,13,14,15)\n",
    "colnames=c(\"col1\",\"col2\",\"col3\")\n",
    "rownames=c(\"row1\",\"row2\",\"row3\")\n",
    "matrixnames= c(\"matrix1\",\"matrix2\")\n",
    "\n",
    "# Create a array with 2 matrix\n",
    "result = array(c(v3,v4),dim=c(3,3,2),dimnames=list(rownames,colnames,matrixnames))\n",
    "print(result)"
   ]
  },
  {
   "cell_type": "code",
   "execution_count": 6,
   "id": "2d1e8413",
   "metadata": {},
   "outputs": [
    {
     "name": "stdout",
     "output_type": "stream",
     "text": [
      "     col1 col2 col3\n",
      "row1    5   10   13\n",
      "row2    9   11   14\n",
      "row3    3   12   15\n",
      "     col1 col2 col3\n",
      "row1    5   10   13\n",
      "row2    9   11   14\n",
      "row3    3   12   15\n"
     ]
    }
   ],
   "source": [
    "# Access data from array\n",
    "# To access show only 2 matrix means all the elements of matrix2\n",
    "print(result[,,\"matrix2\"])\n",
    "print(result[,,\"matrix1\"])"
   ]
  },
  {
   "cell_type": "code",
   "execution_count": 7,
   "id": "9ee02d8d",
   "metadata": {},
   "outputs": [
    {
     "name": "stdout",
     "output_type": "stream",
     "text": [
      "col1 col2 col3 \n",
      "   3   12   15 \n"
     ]
    }
   ],
   "source": [
    "# Print the third row of the seconds matrix of the array\n",
    "print(result[3,,'matrix2'])"
   ]
  },
  {
   "cell_type": "code",
   "execution_count": 8,
   "id": "ec8fa61c",
   "metadata": {},
   "outputs": [
    {
     "name": "stdout",
     "output_type": "stream",
     "text": [
      "[1] 13\n"
     ]
    }
   ],
   "source": [
    "# Print the element in the 1st row and 3rd column of the first matrix of the array\n",
    "print(result[1,3,1])"
   ]
  },
  {
   "cell_type": "code",
   "execution_count": 9,
   "id": "41e48fef",
   "metadata": {},
   "outputs": [
    {
     "name": "stdout",
     "output_type": "stream",
     "text": [
      "[1] \"Matrix A: \"\n",
      "     col1 col2 col3\n",
      "row1    5   10   13\n",
      "row2    9   11   14\n",
      "row3    3   12   15\n",
      "[1] \"Matrix B: \"\n",
      "     col1 col2 col3\n",
      "row1    5   10   13\n",
      "row2    9   11   14\n",
      "row3    3   12   15\n",
      "[1] \"Sum of matrix : \"\n",
      "     col1 col2 col3\n",
      "row1   10   20   26\n",
      "row2   18   22   28\n",
      "row3    6   24   30\n"
     ]
    }
   ],
   "source": [
    "# Access all data from matrix1 and hold in A\n",
    "A = result[,,1]  # A = result[,,matrix1]\n",
    "# Access all the data from matrix2 and hold in B\n",
    "B = result[,,2]\n",
    "print(\"Matrix A: \")\n",
    "print(A)\n",
    "print(\"Matrix B: \")\n",
    "print(B)\n",
    "print(\"Sum of matrix : \")\n",
    "print(A+B)"
   ]
  },
  {
   "cell_type": "code",
   "execution_count": 11,
   "id": "4b38d1db",
   "metadata": {},
   "outputs": [
    {
     "name": "stdout",
     "output_type": "stream",
     "text": [
      ", , matrix1\n",
      "\n",
      "     col1 col2 col3\n",
      "row1    5   10   13\n",
      "row2    9   11   14\n",
      "row3    3   12   15\n",
      "\n",
      ", , matrix2\n",
      "\n",
      "     col1 col2 col3\n",
      "row1    5   10   13\n",
      "row2    9   11   14\n",
      "row3    3   12   15\n",
      "\n",
      "row1 row2 row3 \n",
      "  56   68   60 \n"
     ]
    }
   ],
   "source": [
    "print(result)\n",
    "answer = apply(result,c(1),sum)\n",
    "print(answer)"
   ]
  },
  {
   "cell_type": "code",
   "execution_count": 12,
   "id": "94d1fa16",
   "metadata": {},
   "outputs": [
    {
     "name": "stdout",
     "output_type": "stream",
     "text": [
      "col1 col2 col3 \n",
      "  34   66   84 \n"
     ]
    }
   ],
   "source": [
    "answer = apply(result,c(2),sum)  # colwise sum\n",
    "print(answer)"
   ]
  },
  {
   "cell_type": "code",
   "execution_count": null,
   "id": "04f44158",
   "metadata": {},
   "outputs": [],
   "source": []
  }
 ],
 "metadata": {
  "kernelspec": {
   "display_name": "R",
   "language": "R",
   "name": "ir"
  },
  "language_info": {
   "codemirror_mode": "r",
   "file_extension": ".r",
   "mimetype": "text/x-r-source",
   "name": "R",
   "pygments_lexer": "r",
   "version": "4.1.2"
  }
 },
 "nbformat": 4,
 "nbformat_minor": 5
}
