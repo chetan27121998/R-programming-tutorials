{
 "cells": [
  {
   "cell_type": "markdown",
   "id": "aa44556e",
   "metadata": {},
   "source": [
    "### Create a vector with some of your friend’s names\n",
    "    Get the length of above vector\n",
    "    Get the first two friends from above vector\n",
    "    Get the 2nd and 3rd friends\n",
    "    Sort your friends by names using 2 methods"
   ]
  },
  {
   "cell_type": "code",
   "execution_count": 1,
   "id": "85b67f3d",
   "metadata": {},
   "outputs": [
    {
     "name": "stdout",
     "output_type": "stream",
     "text": [
      "[1] \"Aniket\"  \"Rahul\"   \"Bhavesh\" \"Chetan\"  \"Vinesh\"  \"Shuresh\" \"Hardik\" \n",
      "[8] \"Kalpesh\"\n"
     ]
    }
   ],
   "source": [
    "v<-c(\"Aniket\",\"Rahul\",\"Bhavesh\",\"Chetan\",\"Vinesh\",\"Shuresh\",\"Hardik\",\"Kalpesh\")\n",
    "print(v)"
   ]
  },
  {
   "cell_type": "markdown",
   "id": "793daf0b",
   "metadata": {},
   "source": [
    "### Get the length of above vector"
   ]
  },
  {
   "cell_type": "code",
   "execution_count": 2,
   "id": "4672386b",
   "metadata": {},
   "outputs": [
    {
     "data": {
      "text/html": [
       "8"
      ],
      "text/latex": [
       "8"
      ],
      "text/markdown": [
       "8"
      ],
      "text/plain": [
       "[1] 8"
      ]
     },
     "metadata": {},
     "output_type": "display_data"
    }
   ],
   "source": [
    "length(v)"
   ]
  },
  {
   "cell_type": "markdown",
   "id": "5d4e663a",
   "metadata": {},
   "source": [
    "### Get the first two friends from above vector"
   ]
  },
  {
   "cell_type": "code",
   "execution_count": 3,
   "id": "76f34484",
   "metadata": {},
   "outputs": [
    {
     "data": {
      "text/html": [
       "<ol class=list-inline>\n",
       "\t<li>'Aniket'</li>\n",
       "\t<li>'Rahul'</li>\n",
       "</ol>\n"
      ],
      "text/latex": [
       "\\begin{enumerate*}\n",
       "\\item 'Aniket'\n",
       "\\item 'Rahul'\n",
       "\\end{enumerate*}\n"
      ],
      "text/markdown": [
       "1. 'Aniket'\n",
       "2. 'Rahul'\n",
       "\n",
       "\n"
      ],
      "text/plain": [
       "[1] \"Aniket\" \"Rahul\" "
      ]
     },
     "metadata": {},
     "output_type": "display_data"
    }
   ],
   "source": [
    "v[1:2]"
   ]
  },
  {
   "cell_type": "markdown",
   "id": "85080478",
   "metadata": {},
   "source": [
    "### Get the 2nd and 3rd friends"
   ]
  },
  {
   "cell_type": "code",
   "execution_count": 4,
   "id": "aeafeecd",
   "metadata": {},
   "outputs": [
    {
     "data": {
      "text/html": [
       "<ol class=list-inline>\n",
       "\t<li>'Rahul'</li>\n",
       "\t<li>'Bhavesh'</li>\n",
       "</ol>\n"
      ],
      "text/latex": [
       "\\begin{enumerate*}\n",
       "\\item 'Rahul'\n",
       "\\item 'Bhavesh'\n",
       "\\end{enumerate*}\n"
      ],
      "text/markdown": [
       "1. 'Rahul'\n",
       "2. 'Bhavesh'\n",
       "\n",
       "\n"
      ],
      "text/plain": [
       "[1] \"Rahul\"   \"Bhavesh\""
      ]
     },
     "metadata": {},
     "output_type": "display_data"
    }
   ],
   "source": [
    "v[2:3]"
   ]
  },
  {
   "cell_type": "markdown",
   "id": "2e968473",
   "metadata": {},
   "source": [
    "### Sort your friends by names using 2 methods"
   ]
  },
  {
   "cell_type": "code",
   "execution_count": 5,
   "id": "dc4cde4a",
   "metadata": {},
   "outputs": [
    {
     "data": {
      "text/html": [
       "<ol class=list-inline>\n",
       "\t<li>'Aniket'</li>\n",
       "\t<li>'Bhavesh'</li>\n",
       "\t<li>'Chetan'</li>\n",
       "\t<li>'Hardik'</li>\n",
       "\t<li>'Kalpesh'</li>\n",
       "\t<li>'Rahul'</li>\n",
       "\t<li>'Shuresh'</li>\n",
       "\t<li>'Vinesh'</li>\n",
       "</ol>\n"
      ],
      "text/latex": [
       "\\begin{enumerate*}\n",
       "\\item 'Aniket'\n",
       "\\item 'Bhavesh'\n",
       "\\item 'Chetan'\n",
       "\\item 'Hardik'\n",
       "\\item 'Kalpesh'\n",
       "\\item 'Rahul'\n",
       "\\item 'Shuresh'\n",
       "\\item 'Vinesh'\n",
       "\\end{enumerate*}\n"
      ],
      "text/markdown": [
       "1. 'Aniket'\n",
       "2. 'Bhavesh'\n",
       "3. 'Chetan'\n",
       "4. 'Hardik'\n",
       "5. 'Kalpesh'\n",
       "6. 'Rahul'\n",
       "7. 'Shuresh'\n",
       "8. 'Vinesh'\n",
       "\n",
       "\n"
      ],
      "text/plain": [
       "[1] \"Aniket\"  \"Bhavesh\" \"Chetan\"  \"Hardik\"  \"Kalpesh\" \"Rahul\"   \"Shuresh\"\n",
       "[8] \"Vinesh\" "
      ]
     },
     "metadata": {},
     "output_type": "display_data"
    }
   ],
   "source": [
    "sort(v)"
   ]
  },
  {
   "cell_type": "code",
   "execution_count": 6,
   "id": "12bc06ef",
   "metadata": {},
   "outputs": [
    {
     "data": {
      "text/html": [
       "<ol class=list-inline>\n",
       "\t<li>'Aniket'</li>\n",
       "\t<li>'Bhavesh'</li>\n",
       "\t<li>'Chetan'</li>\n",
       "\t<li>'Hardik'</li>\n",
       "\t<li>'Kalpesh'</li>\n",
       "\t<li>'Rahul'</li>\n",
       "\t<li>'Shuresh'</li>\n",
       "\t<li>'Vinesh'</li>\n",
       "</ol>\n"
      ],
      "text/latex": [
       "\\begin{enumerate*}\n",
       "\\item 'Aniket'\n",
       "\\item 'Bhavesh'\n",
       "\\item 'Chetan'\n",
       "\\item 'Hardik'\n",
       "\\item 'Kalpesh'\n",
       "\\item 'Rahul'\n",
       "\\item 'Shuresh'\n",
       "\\item 'Vinesh'\n",
       "\\end{enumerate*}\n"
      ],
      "text/markdown": [
       "1. 'Aniket'\n",
       "2. 'Bhavesh'\n",
       "3. 'Chetan'\n",
       "4. 'Hardik'\n",
       "5. 'Kalpesh'\n",
       "6. 'Rahul'\n",
       "7. 'Shuresh'\n",
       "8. 'Vinesh'\n",
       "\n",
       "\n"
      ],
      "text/plain": [
       "[1] \"Aniket\"  \"Bhavesh\" \"Chetan\"  \"Hardik\"  \"Kalpesh\" \"Rahul\"   \"Shuresh\"\n",
       "[8] \"Vinesh\" "
      ]
     },
     "metadata": {},
     "output_type": "display_data"
    }
   ],
   "source": [
    "v[order(v)]"
   ]
  },
  {
   "cell_type": "code",
   "execution_count": null,
   "id": "a524fb24",
   "metadata": {},
   "outputs": [],
   "source": []
  }
 ],
 "metadata": {
  "kernelspec": {
   "display_name": "R",
   "language": "R",
   "name": "ir"
  },
  "language_info": {
   "codemirror_mode": "r",
   "file_extension": ".r",
   "mimetype": "text/x-r-source",
   "name": "R",
   "pygments_lexer": "r",
   "version": "3.6.1"
  }
 },
 "nbformat": 4,
 "nbformat_minor": 5
}
