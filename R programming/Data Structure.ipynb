{
 "cells": [
  {
   "cell_type": "code",
   "execution_count": 1,
   "id": "c3f67f77",
   "metadata": {},
   "outputs": [],
   "source": [
    "# Data structure type datatype in R Programming \n",
    "# 1. Vector \n",
    "# Vector means collection of similar type of data\n",
    "# Vector means one dimensional array means 1 D array\n",
    "# 1D array mrans many rows means many records but only one column\n",
    "# In r programming, index always start with 1 "
   ]
  },
  {
   "cell_type": "code",
   "execution_count": 2,
   "id": "cc2a2a34",
   "metadata": {},
   "outputs": [
    {
     "name": "stdout",
     "output_type": "stream",
     "text": [
      " [1] 10 11 12 13 14 15 16 17 18 19 20\n"
     ]
    }
   ],
   "source": [
    "# We can create a vector from different ways :-\n",
    "#1. colon operator : \n",
    "# Syntax : start : stop # steps always +1 we cannot change\n",
    "v1 = 10:20 # Here start = 10 and stop = 20 and step = +1\n",
    "print(v1)"
   ]
  },
  {
   "cell_type": "code",
   "execution_count": 3,
   "id": "d6e01795",
   "metadata": {},
   "outputs": [
    {
     "data": {
      "text/html": [
       "'integer'"
      ],
      "text/latex": [
       "'integer'"
      ],
      "text/markdown": [
       "'integer'"
      ],
      "text/plain": [
       "[1] \"integer\""
      ]
     },
     "metadata": {},
     "output_type": "display_data"
    }
   ],
   "source": [
    "# Check the data-Type\n",
    "class(v1)"
   ]
  },
  {
   "cell_type": "code",
   "execution_count": 5,
   "id": "ebbad0c0",
   "metadata": {},
   "outputs": [
    {
     "data": {
      "text/html": [
       "<style>\n",
       ".list-inline {list-style: none; margin:0; padding: 0}\n",
       ".list-inline>li {display: inline-block}\n",
       ".list-inline>li:not(:last-child)::after {content: \"\\00b7\"; padding: 0 .5ex}\n",
       "</style>\n",
       "<ol class=list-inline><li>10</li><li>12</li><li>14</li><li>16</li><li>18</li><li>20</li></ol>\n"
      ],
      "text/latex": [
       "\\begin{enumerate*}\n",
       "\\item 10\n",
       "\\item 12\n",
       "\\item 14\n",
       "\\item 16\n",
       "\\item 18\n",
       "\\item 20\n",
       "\\end{enumerate*}\n"
      ],
      "text/markdown": [
       "1. 10\n",
       "2. 12\n",
       "3. 14\n",
       "4. 16\n",
       "5. 18\n",
       "6. 20\n",
       "\n",
       "\n"
      ],
      "text/plain": [
       "[1] 10 12 14 16 18 20"
      ]
     },
     "metadata": {},
     "output_type": "display_data"
    }
   ],
   "source": [
    "# 2. Vector : create with the help of seq()\n",
    "v2 = seq(10,20,by=2)\n",
    "v2"
   ]
  },
  {
   "cell_type": "code",
   "execution_count": 7,
   "id": "09439644",
   "metadata": {},
   "outputs": [
    {
     "data": {
      "text/html": [
       "<style>\n",
       ".list-inline {list-style: none; margin:0; padding: 0}\n",
       ".list-inline>li {display: inline-block}\n",
       ".list-inline>li:not(:last-child)::after {content: \"\\00b7\"; padding: 0 .5ex}\n",
       "</style>\n",
       "<ol class=list-inline><li>1</li><li>1.6</li><li>2.2</li><li>2.8</li><li>3.4</li><li>4</li></ol>\n"
      ],
      "text/latex": [
       "\\begin{enumerate*}\n",
       "\\item 1\n",
       "\\item 1.6\n",
       "\\item 2.2\n",
       "\\item 2.8\n",
       "\\item 3.4\n",
       "\\item 4\n",
       "\\end{enumerate*}\n"
      ],
      "text/markdown": [
       "1. 1\n",
       "2. 1.6\n",
       "3. 2.2\n",
       "4. 2.8\n",
       "5. 3.4\n",
       "6. 4\n",
       "\n",
       "\n"
      ],
      "text/plain": [
       "[1] 1.0 1.6 2.2 2.8 3.4 4.0"
      ]
     },
     "metadata": {},
     "output_type": "display_data"
    }
   ],
   "source": [
    "#  or\n",
    "v2 = seq(1,4,length.out=6)\n",
    "v2"
   ]
  },
  {
   "cell_type": "code",
   "execution_count": 8,
   "id": "5f0e617f",
   "metadata": {},
   "outputs": [
    {
     "data": {
      "text/html": [
       "'numeric'"
      ],
      "text/latex": [
       "'numeric'"
      ],
      "text/markdown": [
       "'numeric'"
      ],
      "text/plain": [
       "[1] \"numeric\""
      ]
     },
     "metadata": {},
     "output_type": "display_data"
    }
   ],
   "source": [
    "class(v2)"
   ]
  },
  {
   "cell_type": "code",
   "execution_count": 12,
   "id": "c10d53a5",
   "metadata": {},
   "outputs": [
    {
     "name": "stdout",
     "output_type": "stream",
     "text": [
      "[1] 39 56 78 64 30 50\n",
      "[1] \"integer\"\n"
     ]
    }
   ],
   "source": [
    "# 3 Create a vector with the help of c( );\n",
    "# for eg.\n",
    "m1 = c(39L,56L,78L,64L,30L,50L)\n",
    "print(m1)\n",
    "print(class(m1))"
   ]
  },
  {
   "cell_type": "code",
   "execution_count": 10,
   "id": "8a78d350",
   "metadata": {},
   "outputs": [
    {
     "name": "stdout",
     "output_type": "stream",
     "text": [
      "[1] 56.0 89.0 12.0 77.3 45.0 65.0\n",
      "[1] \"numeric\"\n"
     ]
    }
   ],
   "source": [
    "m1 = c(56,89,12,77.3,45,65)\n",
    "print(m1)\n",
    "print(class(m1))"
   ]
  },
  {
   "cell_type": "code",
   "execution_count": 14,
   "id": "b58612b9",
   "metadata": {},
   "outputs": [
    {
     "data": {
      "text/html": [
       "39"
      ],
      "text/latex": [
       "39"
      ],
      "text/markdown": [
       "39"
      ],
      "text/plain": [
       "[1] 39"
      ]
     },
     "metadata": {},
     "output_type": "display_data"
    }
   ],
   "source": [
    "m1[1] # Access value at 1st index  (Indexing)"
   ]
  },
  {
   "cell_type": "code",
   "execution_count": 16,
   "id": "088179d3",
   "metadata": {},
   "outputs": [
    {
     "data": {
      "text/html": [
       "<style>\n",
       ".list-inline {list-style: none; margin:0; padding: 0}\n",
       ".list-inline>li {display: inline-block}\n",
       ".list-inline>li:not(:last-child)::after {content: \"\\00b7\"; padding: 0 .5ex}\n",
       "</style>\n",
       "<ol class=list-inline><li>56</li><li>78</li><li>64</li></ol>\n"
      ],
      "text/latex": [
       "\\begin{enumerate*}\n",
       "\\item 56\n",
       "\\item 78\n",
       "\\item 64\n",
       "\\end{enumerate*}\n"
      ],
      "text/markdown": [
       "1. 56\n",
       "2. 78\n",
       "3. 64\n",
       "\n",
       "\n"
      ],
      "text/plain": [
       "[1] 56 78 64"
      ]
     },
     "metadata": {},
     "output_type": "display_data"
    }
   ],
   "source": [
    "# Data extract from slicing\n",
    "m1[2:4] # Slicing start index = 2 , stop index = 4 , step = +1"
   ]
  },
  {
   "cell_type": "code",
   "execution_count": 17,
   "id": "10a380d8",
   "metadata": {},
   "outputs": [
    {
     "data": {
      "text/html": [
       "317"
      ],
      "text/latex": [
       "317"
      ],
      "text/markdown": [
       "317"
      ],
      "text/plain": [
       "[1] 317"
      ]
     },
     "metadata": {},
     "output_type": "display_data"
    }
   ],
   "source": [
    "sum(m1)"
   ]
  },
  {
   "cell_type": "code",
   "execution_count": 18,
   "id": "a010997f",
   "metadata": {},
   "outputs": [
    {
     "data": {
      "text/html": [
       "78"
      ],
      "text/latex": [
       "78"
      ],
      "text/markdown": [
       "78"
      ],
      "text/plain": [
       "[1] 78"
      ]
     },
     "metadata": {},
     "output_type": "display_data"
    }
   ],
   "source": [
    "max(m1)"
   ]
  },
  {
   "cell_type": "code",
   "execution_count": 19,
   "id": "372189da",
   "metadata": {},
   "outputs": [
    {
     "data": {
      "text/html": [
       "30"
      ],
      "text/latex": [
       "30"
      ],
      "text/markdown": [
       "30"
      ],
      "text/plain": [
       "[1] 30"
      ]
     },
     "metadata": {},
     "output_type": "display_data"
    }
   ],
   "source": [
    "min(m1)"
   ]
  },
  {
   "cell_type": "code",
   "execution_count": 21,
   "id": "2e059fbd",
   "metadata": {},
   "outputs": [
    {
     "data": {
      "text/html": [
       "<style>\n",
       ".list-inline {list-style: none; margin:0; padding: 0}\n",
       ".list-inline>li {display: inline-block}\n",
       ".list-inline>li:not(:last-child)::after {content: \"\\00b7\"; padding: 0 .5ex}\n",
       "</style>\n",
       "<ol class=list-inline><li>39</li><li>64</li></ol>\n"
      ],
      "text/latex": [
       "\\begin{enumerate*}\n",
       "\\item 39\n",
       "\\item 64\n",
       "\\end{enumerate*}\n"
      ],
      "text/markdown": [
       "1. 39\n",
       "2. 64\n",
       "\n",
       "\n"
      ],
      "text/plain": [
       "[1] 39 64"
      ]
     },
     "metadata": {},
     "output_type": "display_data"
    }
   ],
   "source": [
    "# Access data at 1st index and 4 th index\n",
    "# Python : v1[[1,4]]\n",
    "# But in r programming :   v1[c(1,4)]\n",
    "m1[c(1,4)]"
   ]
  },
  {
   "cell_type": "code",
   "execution_count": null,
   "id": "9e7ff041",
   "metadata": {},
   "outputs": [],
   "source": []
  }
 ],
 "metadata": {
  "kernelspec": {
   "display_name": "R",
   "language": "R",
   "name": "ir"
  },
  "language_info": {
   "codemirror_mode": "r",
   "file_extension": ".r",
   "mimetype": "text/x-r-source",
   "name": "R",
   "pygments_lexer": "r",
   "version": "4.1.2"
  }
 },
 "nbformat": 4,
 "nbformat_minor": 5
}
