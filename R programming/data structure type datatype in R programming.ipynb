{
 "cells": [
  {
   "cell_type": "code",
   "execution_count": 1,
   "id": "1b20f14c",
   "metadata": {},
   "outputs": [],
   "source": [
    "#data structure type datatype in R programming:-\n",
    "#1. Vector :- means collection of similar type of data\n",
    "#vector means one dimensional array means 1D array\n",
    "#1D array means many rows means many records but only one column\n",
    "#in R , index alwaysstart with 1 \n",
    "# In R language we can't do negative indexing."
   ]
  },
  {
   "cell_type": "code",
   "execution_count": 15,
   "id": "8e584de7",
   "metadata": {},
   "outputs": [
    {
     "name": "stdout",
     "output_type": "stream",
     "text": [
      " [1]  1  2  3  4  5  6  7  8  9 10 11 12 13 14 15 16 17 18 19 20\n"
     ]
    }
   ],
   "source": [
    "# we can create a vector from different ways:-\n",
    "#1. colon operator :-\n",
    "#syntax : start:stop  #step always +1 we cannot change\n",
    "v1=1:20  #here start=1 and stop=20 and step=+1\n",
    "print(v1)"
   ]
  },
  {
   "cell_type": "code",
   "execution_count": 6,
   "id": "a02cb948",
   "metadata": {},
   "outputs": [
    {
     "data": {
      "text/html": [
       "'integer'"
      ],
      "text/latex": [
       "'integer'"
      ],
      "text/markdown": [
       "'integer'"
      ],
      "text/plain": [
       "[1] \"integer\""
      ]
     },
     "metadata": {},
     "output_type": "display_data"
    }
   ],
   "source": [
    "#check the datatype\n",
    "class(v1)"
   ]
  },
  {
   "cell_type": "code",
   "execution_count": 8,
   "id": "1b7dccc1",
   "metadata": {},
   "outputs": [
    {
     "data": {
      "text/html": [
       "<ol class=list-inline>\n",
       "\t<li>1</li>\n",
       "\t<li>4</li>\n",
       "\t<li>7</li>\n",
       "\t<li>10</li>\n",
       "\t<li>13</li>\n",
       "\t<li>16</li>\n",
       "\t<li>19</li>\n",
       "</ol>\n"
      ],
      "text/latex": [
       "\\begin{enumerate*}\n",
       "\\item 1\n",
       "\\item 4\n",
       "\\item 7\n",
       "\\item 10\n",
       "\\item 13\n",
       "\\item 16\n",
       "\\item 19\n",
       "\\end{enumerate*}\n"
      ],
      "text/markdown": [
       "1. 1\n",
       "2. 4\n",
       "3. 7\n",
       "4. 10\n",
       "5. 13\n",
       "6. 16\n",
       "7. 19\n",
       "\n",
       "\n"
      ],
      "text/plain": [
       "[1]  1  4  7 10 13 16 19"
      ]
     },
     "metadata": {},
     "output_type": "display_data"
    }
   ],
   "source": [
    "#vector create with the help of seq()\n",
    "v2=seq(1,20,by=3)\n",
    "v2"
   ]
  },
  {
   "cell_type": "code",
   "execution_count": 14,
   "id": "16b9e49a",
   "metadata": {},
   "outputs": [
    {
     "name": "stdout",
     "output_type": "stream",
     "text": [
      "[1] 1.0 1.6 2.2 2.8 3.4 4.0\n"
     ]
    }
   ],
   "source": [
    "#or\n",
    "v2=seq(1,4,length.out=6)\n",
    "print(v2)"
   ]
  },
  {
   "cell_type": "code",
   "execution_count": 10,
   "id": "30f073d1",
   "metadata": {},
   "outputs": [
    {
     "data": {
      "text/html": [
       "'numeric'"
      ],
      "text/latex": [
       "'numeric'"
      ],
      "text/markdown": [
       "'numeric'"
      ],
      "text/plain": [
       "[1] \"numeric\""
      ]
     },
     "metadata": {},
     "output_type": "display_data"
    }
   ],
   "source": [
    "class(v2)  #numeric means float in R programming"
   ]
  },
  {
   "cell_type": "code",
   "execution_count": 20,
   "id": "7abdb434",
   "metadata": {},
   "outputs": [
    {
     "name": "stdout",
     "output_type": "stream",
     "text": [
      "[1] 26 56 36 89 54 50\n"
     ]
    },
    {
     "data": {
      "text/html": [
       "'numeric'"
      ],
      "text/latex": [
       "'numeric'"
      ],
      "text/markdown": [
       "'numeric'"
      ],
      "text/plain": [
       "[1] \"numeric\""
      ]
     },
     "metadata": {},
     "output_type": "display_data"
    }
   ],
   "source": [
    "# 3. create a vector with the help of c():\n",
    "# or eg:-\n",
    "# or integer we have to use L other wise it we assume him numeric\n",
    "m1=c(26,56,36,89,54,50)\n",
    "print(m1)\n",
    "class(m1)"
   ]
  },
  {
   "cell_type": "code",
   "execution_count": 22,
   "id": "7880de8e",
   "metadata": {},
   "outputs": [
    {
     "data": {
      "text/html": [
       "56"
      ],
      "text/latex": [
       "56"
      ],
      "text/markdown": [
       "56"
      ],
      "text/plain": [
       "[1] 56"
      ]
     },
     "metadata": {},
     "output_type": "display_data"
    }
   ],
   "source": [
    "# index \n",
    "m1[2] "
   ]
  },
  {
   "cell_type": "code",
   "execution_count": 24,
   "id": "2005795c",
   "metadata": {},
   "outputs": [
    {
     "data": {
      "text/html": [
       "<ol class=list-inline>\n",
       "\t<li>26</li>\n",
       "\t<li>56</li>\n",
       "\t<li>36</li>\n",
       "\t<li>89</li>\n",
       "</ol>\n"
      ],
      "text/latex": [
       "\\begin{enumerate*}\n",
       "\\item 26\n",
       "\\item 56\n",
       "\\item 36\n",
       "\\item 89\n",
       "\\end{enumerate*}\n"
      ],
      "text/markdown": [
       "1. 26\n",
       "2. 56\n",
       "3. 36\n",
       "4. 89\n",
       "\n",
       "\n"
      ],
      "text/plain": [
       "[1] 26 56 36 89"
      ]
     },
     "metadata": {},
     "output_type": "display_data"
    }
   ],
   "source": [
    "# Data extract from slicing\n",
    "m1[1:4]"
   ]
  },
  {
   "cell_type": "code",
   "execution_count": 25,
   "id": "082416af",
   "metadata": {},
   "outputs": [
    {
     "data": {
      "text/html": [
       "311"
      ],
      "text/latex": [
       "311"
      ],
      "text/markdown": [
       "311"
      ],
      "text/plain": [
       "[1] 311"
      ]
     },
     "metadata": {},
     "output_type": "display_data"
    }
   ],
   "source": [
    "sum(m1)"
   ]
  },
  {
   "cell_type": "code",
   "execution_count": 26,
   "id": "2da5d86b",
   "metadata": {},
   "outputs": [
    {
     "data": {
      "text/html": [
       "89"
      ],
      "text/latex": [
       "89"
      ],
      "text/markdown": [
       "89"
      ],
      "text/plain": [
       "[1] 89"
      ]
     },
     "metadata": {},
     "output_type": "display_data"
    }
   ],
   "source": [
    "max(m1)"
   ]
  },
  {
   "cell_type": "code",
   "execution_count": 27,
   "id": "dc3c1cc5",
   "metadata": {},
   "outputs": [
    {
     "data": {
      "text/html": [
       "<ol class=list-inline>\n",
       "\t<li>26</li>\n",
       "\t<li>56</li>\n",
       "\t<li>36</li>\n",
       "\t<li>89</li>\n",
       "\t<li>54</li>\n",
       "\t<li>50</li>\n",
       "</ol>\n"
      ],
      "text/latex": [
       "\\begin{enumerate*}\n",
       "\\item 26\n",
       "\\item 56\n",
       "\\item 36\n",
       "\\item 89\n",
       "\\item 54\n",
       "\\item 50\n",
       "\\end{enumerate*}\n"
      ],
      "text/markdown": [
       "1. 26\n",
       "2. 56\n",
       "3. 36\n",
       "4. 89\n",
       "5. 54\n",
       "6. 50\n",
       "\n",
       "\n"
      ],
      "text/plain": [
       "[1] 26 56 36 89 54 50"
      ]
     },
     "metadata": {},
     "output_type": "display_data"
    }
   ],
   "source": [
    "m1"
   ]
  },
  {
   "cell_type": "code",
   "execution_count": 29,
   "id": "2f1996ec",
   "metadata": {},
   "outputs": [
    {
     "data": {
      "text/html": [
       "<ol class=list-inline>\n",
       "\t<li>26</li>\n",
       "\t<li>89</li>\n",
       "</ol>\n"
      ],
      "text/latex": [
       "\\begin{enumerate*}\n",
       "\\item 26\n",
       "\\item 89\n",
       "\\end{enumerate*}\n"
      ],
      "text/markdown": [
       "1. 26\n",
       "2. 89\n",
       "\n",
       "\n"
      ],
      "text/plain": [
       "[1] 26 89"
      ]
     },
     "metadata": {},
     "output_type": "display_data"
    }
   ],
   "source": [
    "#Access data at 1st index and 4th index\n",
    "m1[c(1,4)]"
   ]
  },
  {
   "cell_type": "code",
   "execution_count": 11,
   "id": "411dcd9a",
   "metadata": {},
   "outputs": [
    {
     "name": "stdout",
     "output_type": "stream",
     "text": [
      "[1] 12 23 45 61 78 90 43\n",
      "[1] 12 23 61 78 90 43\n"
     ]
    }
   ],
   "source": [
    "#23-02-2023\n",
    "#vector :1D array\n",
    "A=c(12,23,45,61,78,90,43)\n",
    "print(A)\n",
    "print(A[-3])   # in this he wiil skip that value give other "
   ]
  },
  {
   "cell_type": "code",
   "execution_count": 12,
   "id": "d46dfdcf",
   "metadata": {},
   "outputs": [
    {
     "name": "stdout",
     "output_type": "stream",
     "text": [
      "[1] 12 23 61 78 43\n"
     ]
    }
   ],
   "source": [
    "print(A[c(-3,-6)])"
   ]
  },
  {
   "cell_type": "code",
   "execution_count": 14,
   "id": "d3fd0204",
   "metadata": {},
   "outputs": [
    {
     "name": "stdout",
     "output_type": "stream",
     "text": [
      "[1] 12 61 43\n"
     ]
    }
   ],
   "source": [
    "# access the data from vector A\n",
    "print(A[c(TRUE,FALSE,FALSE,TRUE,FALSE,FALSE,TRUE)])"
   ]
  },
  {
   "cell_type": "code",
   "execution_count": 20,
   "id": "078e989b",
   "metadata": {},
   "outputs": [
    {
     "name": "stdout",
     "output_type": "stream",
     "text": [
      "[1] 13 24 35 46 57\n",
      "[1]  30  80 150 240 350\n",
      "[1]  7 16 25 34 43\n",
      "[1] 3.333333 5.000000 6.000000 6.666667 7.142857\n"
     ]
    }
   ],
   "source": [
    "#Arithmetic operation\n",
    "#sum of 2 vector of same lenght\n",
    "v1=c(10,20,30,40,50)\n",
    "v2=c(3,4,5,6,7)\n",
    "print(v1+v2) #addition\n",
    "print(v1*v2) #sum\n",
    "print(v1-v2) #sub\n",
    "print(v1/v2) #divide"
   ]
  },
  {
   "cell_type": "code",
   "execution_count": 23,
   "id": "26887d20",
   "metadata": {},
   "outputs": [
    {
     "name": "stdout",
     "output_type": "stream",
     "text": [
      "[1] 14 25 34 45 54 65\n"
     ]
    }
   ],
   "source": [
    "#but we have two vector\n",
    "#vector element recycle\n",
    "v1=c(10,20,30,40,50,60) #total 6 elements\n",
    "v2=c(4,5) #total elements 2\n",
    "print(v1+v2)"
   ]
  },
  {
   "cell_type": "code",
   "execution_count": 28,
   "id": "d8e4e559",
   "metadata": {},
   "outputs": [
    {
     "name": "stdout",
     "output_type": "stream",
     "text": [
      "[1] 30 34 35 67 78 89 90\n"
     ]
    }
   ],
   "source": [
    "#vector element sorting\n",
    "#sorting means to arrange records in ascending / descending\n",
    "#order\n",
    "marks=c(89,34,78,35,67,90,30)\n",
    "s=sort(marks)\n",
    "print(s) #Ascending"
   ]
  },
  {
   "cell_type": "code",
   "execution_count": 30,
   "id": "9ccffb91",
   "metadata": {},
   "outputs": [
    {
     "data": {
      "text/html": [
       "<ol class=list-inline>\n",
       "\t<li>90</li>\n",
       "\t<li>89</li>\n",
       "\t<li>78</li>\n",
       "\t<li>67</li>\n",
       "\t<li>35</li>\n",
       "\t<li>34</li>\n",
       "\t<li>30</li>\n",
       "</ol>\n"
      ],
      "text/latex": [
       "\\begin{enumerate*}\n",
       "\\item 90\n",
       "\\item 89\n",
       "\\item 78\n",
       "\\item 67\n",
       "\\item 35\n",
       "\\item 34\n",
       "\\item 30\n",
       "\\end{enumerate*}\n"
      ],
      "text/markdown": [
       "1. 90\n",
       "2. 89\n",
       "3. 78\n",
       "4. 67\n",
       "5. 35\n",
       "6. 34\n",
       "7. 30\n",
       "\n",
       "\n"
      ],
      "text/plain": [
       "[1] 90 89 78 67 35 34 30"
      ]
     },
     "metadata": {},
     "output_type": "display_data"
    }
   ],
   "source": [
    "#descending order\n",
    "sort(marks,decreasing=TRUE)"
   ]
  },
  {
   "cell_type": "code",
   "execution_count": 38,
   "id": "cddba1e9",
   "metadata": {},
   "outputs": [
    {
     "name": "stdout",
     "output_type": "stream",
     "text": [
      " [1]  10  20  30  40  50  60  70  80  90 100 110 120\n",
      "     [,1] [,2] [,3]\n",
      "[1,]   10   20   30\n",
      "[2,]   40   50   60\n",
      "[3,]   70   80   90\n",
      "[4,]  100  110  120\n"
     ]
    }
   ],
   "source": [
    "#we want to create a 2D array means two dimensional array\n",
    "# then go to matrix in R programming\n",
    "#create a vector V\n",
    "V=c(10,20,30,40,50,60,70,80,90,100,110,120)\n",
    "print(V)\n",
    "#Convert vector (1D array) into matrix (2D array)\n",
    "#2D array means many rows means many records and in each row , many columns\n",
    "A=matrix(V,nrow=4,ncol=3,byrow=TRUE) #bydefault byrow=FALSE means value fill in matrix column\n",
    "#wise and byrow=TRUE means value fill in matrix row wise\n",
    "print(A)"
   ]
  },
  {
   "cell_type": "code",
   "execution_count": 53,
   "id": "4c546f56",
   "metadata": {},
   "outputs": [
    {
     "data": {
      "text/html": [
       "<table>\n",
       "<thead><tr><th></th><th scope=col>Python</th><th scope=col>ML</th><th scope=col>DL</th></tr></thead>\n",
       "<tbody>\n",
       "\t<tr><th scope=row>Sunil</th><td>10 </td><td>50 </td><td> 90</td></tr>\n",
       "\t<tr><th scope=row>mohan</th><td>20 </td><td>60 </td><td>100</td></tr>\n",
       "\t<tr><th scope=row>Aniket</th><td>30 </td><td>70 </td><td>110</td></tr>\n",
       "\t<tr><th scope=row>Gawde</th><td>40 </td><td>80 </td><td>120</td></tr>\n",
       "</tbody>\n",
       "</table>\n"
      ],
      "text/latex": [
       "\\begin{tabular}{r|lll}\n",
       "  & Python & ML & DL\\\\\n",
       "\\hline\n",
       "\tSunil & 10  & 50  &  90\\\\\n",
       "\tmohan & 20  & 60  & 100\\\\\n",
       "\tAniket & 30  & 70  & 110\\\\\n",
       "\tGawde & 40  & 80  & 120\\\\\n",
       "\\end{tabular}\n"
      ],
      "text/markdown": [
       "\n",
       "| <!--/--> | Python | ML | DL |\n",
       "|---|---|---|---|\n",
       "| Sunil | 10  | 50  |  90 |\n",
       "| mohan | 20  | 60  | 100 |\n",
       "| Aniket | 30  | 70  | 110 |\n",
       "| Gawde | 40  | 80  | 120 |\n",
       "\n"
      ],
      "text/plain": [
       "       Python ML DL \n",
       "Sunil  10     50  90\n",
       "mohan  20     60 100\n",
       "Aniket 30     70 110\n",
       "Gawde  40     80 120"
      ]
     },
     "metadata": {},
     "output_type": "display_data"
    }
   ],
   "source": [
    "#create a matrix with column name and row name\n",
    "rownames=c(\"Sunil\",\"mohan\",\"Aniket\",\"Gawde\")\n",
    "colnames=c(\"Python\",\"ML\",\"DL\")\n",
    "V=c(10,20,30,40,50,60,70,80,90,100,110,120)\n",
    "M=matrix(V,nrow=4,ncol=3,dimnames=list(rownames,colnames))\n",
    "#here no mension byrow=TRUE means fill colwise\n",
    "M"
   ]
  },
  {
   "cell_type": "code",
   "execution_count": 52,
   "id": "ca9cb374",
   "metadata": {},
   "outputs": [
    {
     "data": {
      "text/html": [
       "<dl class=dl-horizontal>\n",
       "\t<dt>Python</dt>\n",
       "\t\t<dd>20</dd>\n",
       "\t<dt>ML</dt>\n",
       "\t\t<dd>60</dd>\n",
       "\t<dt>DL</dt>\n",
       "\t\t<dd>100</dd>\n",
       "</dl>\n"
      ],
      "text/latex": [
       "\\begin{description*}\n",
       "\\item[Python] 20\n",
       "\\item[ML] 60\n",
       "\\item[DL] 100\n",
       "\\end{description*}\n"
      ],
      "text/markdown": [
       "Python\n",
       ":   20ML\n",
       ":   60DL\n",
       ":   100\n",
       "\n"
      ],
      "text/plain": [
       "Python     ML     DL \n",
       "    20     60    100 "
      ]
     },
     "metadata": {},
     "output_type": "display_data"
    }
   ],
   "source": [
    "#access all the detail of mohan\n",
    "M[\"mohan\",]"
   ]
  },
  {
   "cell_type": "code",
   "execution_count": 56,
   "id": "b2d8bb4f",
   "metadata": {},
   "outputs": [
    {
     "data": {
      "text/html": [
       "100"
      ],
      "text/latex": [
       "100"
      ],
      "text/markdown": [
       "100"
      ],
      "text/plain": [
       "[1] 100"
      ]
     },
     "metadata": {},
     "output_type": "display_data"
    }
   ],
   "source": [
    "# mohan\n",
    "M[2,3]"
   ]
  },
  {
   "cell_type": "code",
   "execution_count": 57,
   "id": "505b0aa0",
   "metadata": {},
   "outputs": [
    {
     "data": {
      "text/html": [
       "100"
      ],
      "text/latex": [
       "100"
      ],
      "text/markdown": [
       "100"
      ],
      "text/plain": [
       "[1] 100"
      ]
     },
     "metadata": {},
     "output_type": "display_data"
    }
   ],
   "source": [
    "#or\n",
    "M[\"mohan\",\"DL\"]"
   ]
  },
  {
   "cell_type": "code",
   "execution_count": 59,
   "id": "9c912c98",
   "metadata": {},
   "outputs": [
    {
     "data": {
      "text/html": [
       "<table>\n",
       "<thead><tr><th></th><th scope=col>Python</th><th scope=col>ML</th><th scope=col>DL</th></tr></thead>\n",
       "<tbody>\n",
       "\t<tr><th scope=row>Sunil</th><td>10 </td><td>50 </td><td> 90</td></tr>\n",
       "\t<tr><th scope=row>mohan</th><td>20 </td><td>60 </td><td>100</td></tr>\n",
       "\t<tr><th scope=row>Aniket</th><td>30 </td><td>70 </td><td>110</td></tr>\n",
       "\t<tr><th scope=row>Gawde</th><td>40 </td><td>80 </td><td>120</td></tr>\n",
       "</tbody>\n",
       "</table>\n"
      ],
      "text/latex": [
       "\\begin{tabular}{r|lll}\n",
       "  & Python & ML & DL\\\\\n",
       "\\hline\n",
       "\tSunil & 10  & 50  &  90\\\\\n",
       "\tmohan & 20  & 60  & 100\\\\\n",
       "\tAniket & 30  & 70  & 110\\\\\n",
       "\tGawde & 40  & 80  & 120\\\\\n",
       "\\end{tabular}\n"
      ],
      "text/markdown": [
       "\n",
       "| <!--/--> | Python | ML | DL |\n",
       "|---|---|---|---|\n",
       "| Sunil | 10  | 50  |  90 |\n",
       "| mohan | 20  | 60  | 100 |\n",
       "| Aniket | 30  | 70  | 110 |\n",
       "| Gawde | 40  | 80  | 120 |\n",
       "\n"
      ],
      "text/plain": [
       "       Python ML DL \n",
       "Sunil  10     50  90\n",
       "mohan  20     60 100\n",
       "Aniket 30     70 110\n",
       "Gawde  40     80 120"
      ]
     },
     "metadata": {},
     "output_type": "display_data"
    }
   ],
   "source": [
    "M"
   ]
  },
  {
   "cell_type": "code",
   "execution_count": 66,
   "id": "ca7abcf2",
   "metadata": {},
   "outputs": [
    {
     "data": {
      "text/html": [
       "<table>\n",
       "<thead><tr><th></th><th scope=col>ML</th><th scope=col>DL</th></tr></thead>\n",
       "<tbody>\n",
       "\t<tr><th scope=row>mohan</th><td>60 </td><td>100</td></tr>\n",
       "\t<tr><th scope=row>Aniket</th><td>70 </td><td>110</td></tr>\n",
       "\t<tr><th scope=row>Gawde</th><td>80 </td><td>120</td></tr>\n",
       "</tbody>\n",
       "</table>\n"
      ],
      "text/latex": [
       "\\begin{tabular}{r|ll}\n",
       "  & ML & DL\\\\\n",
       "\\hline\n",
       "\tmohan & 60  & 100\\\\\n",
       "\tAniket & 70  & 110\\\\\n",
       "\tGawde & 80  & 120\\\\\n",
       "\\end{tabular}\n"
      ],
      "text/markdown": [
       "\n",
       "| <!--/--> | ML | DL |\n",
       "|---|---|---|\n",
       "| mohan | 60  | 100 |\n",
       "| Aniket | 70  | 110 |\n",
       "| Gawde | 80  | 120 |\n",
       "\n"
      ],
      "text/plain": [
       "       ML DL \n",
       "mohan  60 100\n",
       "Aniket 70 110\n",
       "Gawde  80 120"
      ]
     },
     "metadata": {},
     "output_type": "display_data"
    }
   ],
   "source": [
    "M[2:4,2:3] #access data from 2nd 3rd col for \n",
    "#2,3 and 4th rows"
   ]
  },
  {
   "cell_type": "code",
   "execution_count": 70,
   "id": "95dcc188",
   "metadata": {},
   "outputs": [
    {
     "data": {
      "text/html": [
       "<table>\n",
       "<thead><tr><th></th><th scope=col>Python</th><th scope=col>ML</th><th scope=col>DL</th></tr></thead>\n",
       "<tbody>\n",
       "\t<tr><th scope=row>Sunil</th><td>10 </td><td>50 </td><td> 90</td></tr>\n",
       "\t<tr><th scope=row>Aniket</th><td>30 </td><td>70 </td><td>110</td></tr>\n",
       "\t<tr><th scope=row>Gawde</th><td>40 </td><td>80 </td><td>120</td></tr>\n",
       "</tbody>\n",
       "</table>\n"
      ],
      "text/latex": [
       "\\begin{tabular}{r|lll}\n",
       "  & Python & ML & DL\\\\\n",
       "\\hline\n",
       "\tSunil & 10  & 50  &  90\\\\\n",
       "\tAniket & 30  & 70  & 110\\\\\n",
       "\tGawde & 40  & 80  & 120\\\\\n",
       "\\end{tabular}\n"
      ],
      "text/markdown": [
       "\n",
       "| <!--/--> | Python | ML | DL |\n",
       "|---|---|---|---|\n",
       "| Sunil | 10  | 50  |  90 |\n",
       "| Aniket | 30  | 70  | 110 |\n",
       "| Gawde | 40  | 80  | 120 |\n",
       "\n"
      ],
      "text/plain": [
       "       Python ML DL \n",
       "Sunil  10     50  90\n",
       "Aniket 30     70 110\n",
       "Gawde  40     80 120"
      ]
     },
     "metadata": {},
     "output_type": "display_data"
    }
   ],
   "source": [
    "M[-2,] #access all details of all student exclude 2nd student"
   ]
  },
  {
   "cell_type": "code",
   "execution_count": 71,
   "id": "e0365e50",
   "metadata": {},
   "outputs": [
    {
     "data": {
      "text/html": [
       "<table>\n",
       "<thead><tr><th></th><th scope=col>Python</th><th scope=col>DL</th></tr></thead>\n",
       "<tbody>\n",
       "\t<tr><th scope=row>Sunil</th><td>10 </td><td> 90</td></tr>\n",
       "\t<tr><th scope=row>mohan</th><td>20 </td><td>100</td></tr>\n",
       "\t<tr><th scope=row>Aniket</th><td>30 </td><td>110</td></tr>\n",
       "\t<tr><th scope=row>Gawde</th><td>40 </td><td>120</td></tr>\n",
       "</tbody>\n",
       "</table>\n"
      ],
      "text/latex": [
       "\\begin{tabular}{r|ll}\n",
       "  & Python & DL\\\\\n",
       "\\hline\n",
       "\tSunil & 10  &  90\\\\\n",
       "\tmohan & 20  & 100\\\\\n",
       "\tAniket & 30  & 110\\\\\n",
       "\tGawde & 40  & 120\\\\\n",
       "\\end{tabular}\n"
      ],
      "text/markdown": [
       "\n",
       "| <!--/--> | Python | DL |\n",
       "|---|---|---|\n",
       "| Sunil | 10  |  90 |\n",
       "| mohan | 20  | 100 |\n",
       "| Aniket | 30  | 110 |\n",
       "| Gawde | 40  | 120 |\n",
       "\n"
      ],
      "text/plain": [
       "       Python DL \n",
       "Sunil  10      90\n",
       "mohan  20     100\n",
       "Aniket 30     110\n",
       "Gawde  40     120"
      ]
     },
     "metadata": {},
     "output_type": "display_data"
    }
   ],
   "source": [
    "M[,-2]"
   ]
  },
  {
   "cell_type": "code",
   "execution_count": 74,
   "id": "d69b2061",
   "metadata": {},
   "outputs": [
    {
     "data": {
      "text/html": [
       "<table>\n",
       "<thead><tr><th></th><th scope=col>Python</th><th scope=col>DL</th></tr></thead>\n",
       "<tbody>\n",
       "\t<tr><th scope=row>Sunil</th><td>10 </td><td> 90</td></tr>\n",
       "\t<tr><th scope=row>Gawde</th><td>40 </td><td>120</td></tr>\n",
       "</tbody>\n",
       "</table>\n"
      ],
      "text/latex": [
       "\\begin{tabular}{r|ll}\n",
       "  & Python & DL\\\\\n",
       "\\hline\n",
       "\tSunil & 10  &  90\\\\\n",
       "\tGawde & 40  & 120\\\\\n",
       "\\end{tabular}\n"
      ],
      "text/markdown": [
       "\n",
       "| <!--/--> | Python | DL |\n",
       "|---|---|---|\n",
       "| Sunil | 10  |  90 |\n",
       "| Gawde | 40  | 120 |\n",
       "\n"
      ],
      "text/plain": [
       "      Python DL \n",
       "Sunil 10      90\n",
       "Gawde 40     120"
      ]
     },
     "metadata": {},
     "output_type": "display_data"
    }
   ],
   "source": [
    "#show 1st and 4th row and 1 and 3rd columns\n",
    "M[c(1,4),c(1,3)]"
   ]
  },
  {
   "cell_type": "code",
   "execution_count": null,
   "id": "0b953621",
   "metadata": {},
   "outputs": [],
   "source": [
    "# HW\n",
    "1\n",
    "23\n",
    "345\n",
    "4567\n",
    "56789\n",
    "\n",
    "\n",
    "\n",
    "1\n",
    "23\n",
    "456\n",
    "78910"
   ]
  }
 ],
 "metadata": {
  "kernelspec": {
   "display_name": "R",
   "language": "R",
   "name": "ir"
  },
  "language_info": {
   "codemirror_mode": "r",
   "file_extension": ".r",
   "mimetype": "text/x-r-source",
   "name": "R",
   "pygments_lexer": "r",
   "version": "3.6.1"
  }
 },
 "nbformat": 4,
 "nbformat_minor": 5
}
