{
 "cells": [
  {
   "cell_type": "code",
   "execution_count": 1,
   "id": "590ee30d",
   "metadata": {},
   "outputs": [
    {
     "name": "stdout",
     "output_type": "stream",
     "text": [
      "[1] \"hello world\"\n",
      "[1] \"hello world\"\n",
      "[1] \"hello world\"\n",
      "[1] \"hello world\"\n",
      "[1] \"hello world\"\n"
     ]
    }
   ],
   "source": [
    "# Loop \n",
    " i = 1\n",
    "while(i<=5)\n",
    "    {\n",
    "    print(\"hello world\")\n",
    "    i = i + 1\n",
    "}"
   ]
  },
  {
   "cell_type": "code",
   "execution_count": 2,
   "id": "ffb4901b",
   "metadata": {},
   "outputs": [
    {
     "name": "stdout",
     "output_type": "stream",
     "text": [
      "[1] 1\n",
      "[1] 2\n",
      "[1] 3\n",
      "[1] 4\n",
      "[1] 5\n",
      "[1] 6\n",
      "[1] 7\n",
      "[1] 8\n",
      "[1] 9\n",
      "[1] 10\n"
     ]
    }
   ],
   "source": [
    "# Repeat\n",
    "i = 1\n",
    "repeat \n",
    "    {\n",
    "    print(i)\n",
    "    i = i + 1\n",
    "    if (i>10)\n",
    "        {\n",
    "        break  # Exit from the loop\n",
    "    }\n",
    "}"
   ]
  },
  {
   "cell_type": "code",
   "execution_count": 3,
   "id": "f6bc5a99",
   "metadata": {},
   "outputs": [
    {
     "name": "stdout",
     "output_type": "stream",
     "text": [
      "[1] 1\n",
      "[1] 2\n",
      "[1] 3\n",
      "[1] 4\n",
      "[1] 5\n",
      "[1] 6\n",
      "[1] 7\n",
      "[1] 8\n",
      "[1] 9\n",
      "[1] 10\n"
     ]
    }
   ],
   "source": [
    "# For loop \n",
    "# To print first 10 natural number using for loop\n",
    "for (i in 1:10)\n",
    "    {\n",
    "    print(i)\n",
    "}"
   ]
  },
  {
   "cell_type": "code",
   "execution_count": 4,
   "id": "bbb0e323",
   "metadata": {},
   "outputs": [
    {
     "name": "stdout",
     "output_type": "stream",
     "text": [
      "[1] 1\n",
      "[1] 3\n",
      "[1] 5\n",
      "[1] 7\n",
      "[1] 9\n"
     ]
    }
   ],
   "source": [
    "# use inbuilt function seq()\n",
    "# Synatx of seq()\n",
    "# seq(from =1,to=10,by = increment or decrement)\n",
    "# seq(1,10,2)\n",
    "x = seq(1,10,2)\n",
    "for (i in x)\n",
    "    {\n",
    "    print(i)\n",
    "}"
   ]
  },
  {
   "cell_type": "code",
   "execution_count": 5,
   "id": "dbedba49",
   "metadata": {},
   "outputs": [
    {
     "name": "stdout",
     "output_type": "stream",
     "text": [
      "[1] 1\n",
      "[1] 3\n",
      "[1] 5\n",
      "[1] 7\n",
      "[1] 9\n"
     ]
    }
   ],
   "source": [
    "for (i in seq(1,10,by=2))\n",
    "    {\n",
    "    print(i)\n",
    "}"
   ]
  },
  {
   "cell_type": "code",
   "execution_count": 7,
   "id": "0d82a52c",
   "metadata": {},
   "outputs": [
    {
     "name": "stdout",
     "output_type": "stream",
     "text": [
      "Enter the number : 5\n",
      "[1] 120\n"
     ]
    }
   ],
   "source": [
    "# Programming to find factorial number \n",
    "num =as.integer(readline(\"Enter the number : \"))\n",
    "j = 1\n",
    "if (num<1)\n",
    "    {\n",
    "    print(\"Sorry the number not valid\")\n",
    "}else if(num==0)\n",
    "    {\n",
    "    print(\"The factorial of 0 is 1\")\n",
    "}else\n",
    "    {\n",
    "    for (i in 1:num)\n",
    "        {\n",
    "        j = j * i\n",
    "    }\n",
    "    print(j)\n",
    "}"
   ]
  },
  {
   "cell_type": "code",
   "execution_count": 9,
   "id": "b9152577",
   "metadata": {},
   "outputs": [
    {
     "name": "stdout",
     "output_type": "stream",
     "text": [
      "Enter the number : 5\n",
      "[1] 120\n"
     ]
    }
   ],
   "source": [
    "num = as.integer(readline(\"Enter the number : \"))\n",
    "f = 1\n",
    "while(num>0)\n",
    "    {\n",
    "    f = f * num\n",
    "    num = num -1\n",
    "}\n",
    "print(f)"
   ]
  },
  {
   "cell_type": "code",
   "execution_count": 12,
   "id": "24183b4d",
   "metadata": {},
   "outputs": [
    {
     "name": "stdout",
     "output_type": "stream",
     "text": [
      "Enter the number 5\n",
      "[1] 120\n"
     ]
    }
   ],
   "source": [
    "num = as.integer(readline(\"Enter the number \"))\n",
    "i = 1\n",
    "for (j in 1:num)\n",
    "    {\n",
    "    i= j * i\n",
    "}\n",
    "print(i)"
   ]
  },
  {
   "cell_type": "code",
   "execution_count": 14,
   "id": "ded23f40",
   "metadata": {},
   "outputs": [
    {
     "name": "stdout",
     "output_type": "stream",
     "text": [
      "Enter the number : 5\n",
      "[1] 0\n",
      "[1] 1\n",
      "[1] 1\n",
      "[1] 2\n",
      "[1] 3\n"
     ]
    }
   ],
   "source": [
    "#\n",
    "n = as.integer(readline(\"Enter the number : \"))\n",
    "n1  = 0\n",
    "n2 = 1\n",
    "count=0\n",
    "if (n<= 0)\n",
    "    {\n",
    "    print(\"Please enter the positive number \")\n",
    "}else if (n==1)\n",
    "    {\n",
    "    print(\"fibonacci series upto \",n)\n",
    "}else\n",
    "    {\n",
    "    while (count< n)\n",
    "        {\n",
    "        print(n1)\n",
    "        result = n1 + n2\n",
    "        n1 = n2\n",
    "        n2 = result\n",
    "        count = count + 1\n",
    "    }\n",
    "}"
   ]
  },
  {
   "cell_type": "code",
   "execution_count": null,
   "id": "01af3249",
   "metadata": {},
   "outputs": [],
   "source": [
    "num = as.integer(readline(\"Enter the number : \"))\n"
   ]
  }
 ],
 "metadata": {
  "kernelspec": {
   "display_name": "R",
   "language": "R",
   "name": "ir"
  },
  "language_info": {
   "codemirror_mode": "r",
   "file_extension": ".r",
   "mimetype": "text/x-r-source",
   "name": "R",
   "pygments_lexer": "r",
   "version": "4.1.2"
  }
 },
 "nbformat": 4,
 "nbformat_minor": 5
}
