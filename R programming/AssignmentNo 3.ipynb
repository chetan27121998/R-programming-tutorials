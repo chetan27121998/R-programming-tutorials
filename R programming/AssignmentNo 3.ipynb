{
 "cells": [
  {
   "cell_type": "markdown",
   "id": "7217930b",
   "metadata": {},
   "source": [
    "### WAP to create the factorial of given  number using Recursion."
   ]
  },
  {
   "cell_type": "code",
   "execution_count": 1,
   "id": "12eafd11",
   "metadata": {},
   "outputs": [],
   "source": [
    "factorial<-function(num){\n",
    "    if(num==0){\n",
    "        return(1)\n",
    "    }else{\n",
    "        return (num*factorial(num-1))\n",
    "    }\n",
    "}"
   ]
  },
  {
   "cell_type": "code",
   "execution_count": 2,
   "id": "b09bbd85",
   "metadata": {},
   "outputs": [
    {
     "name": "stdout",
     "output_type": "stream",
     "text": [
      "Enter the number : 5\n",
      "Factorial of given numbers is :  120"
     ]
    }
   ],
   "source": [
    "# Main program \n",
    "num<-as.integer(readline(\"Enter the number : \"))\n",
    "#Call the function\n",
    "cat(\"Factorial of given numbers is : \",factorial(num))"
   ]
  },
  {
   "cell_type": "markdown",
   "id": "6e2b0c6d",
   "metadata": {},
   "source": [
    "### WAP to create a function that find the Square and cube of given  Number"
   ]
  },
  {
   "cell_type": "code",
   "execution_count": 3,
   "id": "358d76f7",
   "metadata": {},
   "outputs": [],
   "source": [
    "Sq<-function(num1){\n",
    "    sq = num1*num1\n",
    "    return (sq)\n",
    "}"
   ]
  },
  {
   "cell_type": "code",
   "execution_count": 4,
   "id": "b952fe9f",
   "metadata": {},
   "outputs": [
    {
     "name": "stdout",
     "output_type": "stream",
     "text": [
      "Enter the number: 12\n",
      "Sqaure of Number is :  144"
     ]
    }
   ],
   "source": [
    "# Main program\n",
    "num1<-as.integer(readline(\"Enter the number: \"))\n",
    "# Call the function \n",
    "square = Sq(num1)\n",
    "cat(\"Sqaure of Number is : \",square)"
   ]
  },
  {
   "cell_type": "code",
   "execution_count": 5,
   "id": "b347e1ea",
   "metadata": {},
   "outputs": [],
   "source": [
    "cube<-function(num1){\n",
    "    cube=num1*num1*num1\n",
    "    return (cube)\n",
    "}"
   ]
  },
  {
   "cell_type": "code",
   "execution_count": 6,
   "id": "cf6ba8e5",
   "metadata": {},
   "outputs": [
    {
     "name": "stdout",
     "output_type": "stream",
     "text": [
      "Ente the number: 10\n",
      "Cube of number:  1000"
     ]
    }
   ],
   "source": [
    "# Main program\n",
    "num1<-as.integer(readline(\"Ente the number: \"))\n",
    "# Call the function\n",
    "Cu=cube(num1)\n",
    "cat(\"Cube of number: \",Cu)"
   ]
  },
  {
   "cell_type": "code",
   "execution_count": null,
   "id": "1464134f",
   "metadata": {},
   "outputs": [],
   "source": []
  }
 ],
 "metadata": {
  "kernelspec": {
   "display_name": "R",
   "language": "R",
   "name": "ir"
  },
  "language_info": {
   "codemirror_mode": "r",
   "file_extension": ".r",
   "mimetype": "text/x-r-source",
   "name": "R",
   "pygments_lexer": "r",
   "version": "3.6.1"
  }
 },
 "nbformat": 4,
 "nbformat_minor": 5
}
