{
 "cells": [
  {
   "cell_type": "code",
   "execution_count": 3,
   "id": "ac4cff01",
   "metadata": {},
   "outputs": [
    {
     "name": "stdout",
     "output_type": "stream",
     "text": [
      "[1] \"Meena     \"\n"
     ]
    }
   ],
   "source": [
    "# String formating in R\n",
    "#Placing strin in the left side\n",
    "result <- format(\"Meena\", width=10, justify=\"l\")\n",
    "print(result)"
   ]
  },
  {
   "cell_type": "code",
   "execution_count": 7,
   "id": "4a716ef2",
   "metadata": {},
   "outputs": [
    {
     "name": "stdout",
     "output_type": "stream",
     "text": [
      "[1] \"Meena\"\n"
     ]
    }
   ],
   "source": [
    "# Placing string in the centre\n",
    "result2 <- format(\"Meena\", Width = 10, justify=\"c\")\n",
    "print(result2)"
   ]
  },
  {
   "cell_type": "code",
   "execution_count": 5,
   "id": "8009c211",
   "metadata": {},
   "outputs": [
    {
     "name": "stdout",
     "output_type": "stream",
     "text": [
      "[1] \"     Meena\"\n"
     ]
    }
   ],
   "source": [
    "#Placing string in the centre\n",
    "result3 <- format(\"Meena\",width = 10, justify=\"r\")\n",
    "print(result3)"
   ]
  },
  {
   "cell_type": "code",
   "execution_count": 8,
   "id": "34b3bcfd",
   "metadata": {},
   "outputs": [
    {
     "name": "stdout",
     "output_type": "stream",
     "text": [
      "[1] \"12.46\"\n"
     ]
    }
   ],
   "source": [
    "# Rounding off the specified digits into 4 digits\n",
    "result3 <- format(12.456712121,digits=4)\n",
    "print(result3)"
   ]
  },
  {
   "cell_type": "code",
   "execution_count": 11,
   "id": "fd34f354",
   "metadata": {},
   "outputs": [
    {
     "name": "stdout",
     "output_type": "stream",
     "text": [
      "[1] \"12.34568\"\n"
     ]
    }
   ],
   "source": [
    "result4<- format(12.3456789,nsmall=4)\n",
    "print(result4)"
   ]
  },
  {
   "cell_type": "code",
   "execution_count": null,
   "id": "bc938966",
   "metadata": {},
   "outputs": [],
   "source": []
  }
 ],
 "metadata": {
  "kernelspec": {
   "display_name": "R",
   "language": "R",
   "name": "ir"
  },
  "language_info": {
   "codemirror_mode": "r",
   "file_extension": ".r",
   "mimetype": "text/x-r-source",
   "name": "R",
   "pygments_lexer": "r",
   "version": "4.1.2"
  }
 },
 "nbformat": 4,
 "nbformat_minor": 5
}
