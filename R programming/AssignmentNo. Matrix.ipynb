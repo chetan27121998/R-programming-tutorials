{
 "cells": [
  {
   "cell_type": "markdown",
   "id": "ce4b253c",
   "metadata": {},
   "source": [
    "### Create three vectors x,y,z with integers and each vector has 3 elements.Combine the three vectors to become a 3×3 matrix A where each column represents a vector. Change the row names to a,b,c."
   ]
  },
  {
   "cell_type": "code",
   "execution_count": 2,
   "id": "371b4348",
   "metadata": {},
   "outputs": [
    {
     "data": {
      "text/html": [
       "<table>\n",
       "<thead><tr><th scope=col>x</th><th scope=col>y</th><th scope=col>z</th></tr></thead>\n",
       "<tbody>\n",
       "\t<tr><td>6 </td><td> 6</td><td>2 </td></tr>\n",
       "\t<tr><td>5 </td><td>10</td><td>3 </td></tr>\n",
       "\t<tr><td>4 </td><td> 5</td><td>7 </td></tr>\n",
       "</tbody>\n",
       "</table>\n"
      ],
      "text/latex": [
       "\\begin{tabular}{lll}\n",
       " x & y & z\\\\\n",
       "\\hline\n",
       "\t 6  &  6 & 2 \\\\\n",
       "\t 5  & 10 & 3 \\\\\n",
       "\t 4  &  5 & 7 \\\\\n",
       "\\end{tabular}\n"
      ],
      "text/markdown": [
       "\n",
       "| x | y | z |\n",
       "|---|---|---|\n",
       "| 6  |  6 | 2  |\n",
       "| 5  | 10 | 3  |\n",
       "| 4  |  5 | 7  |\n",
       "\n"
      ],
      "text/plain": [
       "     x y  z\n",
       "[1,] 6  6 2\n",
       "[2,] 5 10 3\n",
       "[3,] 4  5 7"
      ]
     },
     "metadata": {},
     "output_type": "display_data"
    }
   ],
   "source": [
    "x <- sample(1:10,3, replace =TRUE)\n",
    "y <- sample(1:10,3,replace = TRUE)\n",
    "z <- sample(1:10,3,replace = TRUE)\n",
    "\n",
    "A <- cbind(x,y,z)\n",
    "A"
   ]
  },
  {
   "cell_type": "code",
   "execution_count": 3,
   "id": "5749e743",
   "metadata": {},
   "outputs": [
    {
     "data": {
      "text/html": [
       "<table>\n",
       "<thead><tr><th></th><th scope=col>x</th><th scope=col>y</th><th scope=col>z</th></tr></thead>\n",
       "<tbody>\n",
       "\t<tr><th scope=row>a</th><td>6 </td><td> 6</td><td>2 </td></tr>\n",
       "\t<tr><th scope=row>b</th><td>5 </td><td>10</td><td>3 </td></tr>\n",
       "\t<tr><th scope=row>c</th><td>4 </td><td> 5</td><td>7 </td></tr>\n",
       "</tbody>\n",
       "</table>\n"
      ],
      "text/latex": [
       "\\begin{tabular}{r|lll}\n",
       "  & x & y & z\\\\\n",
       "\\hline\n",
       "\ta & 6  &  6 & 2 \\\\\n",
       "\tb & 5  & 10 & 3 \\\\\n",
       "\tc & 4  &  5 & 7 \\\\\n",
       "\\end{tabular}\n"
      ],
      "text/markdown": [
       "\n",
       "| <!--/--> | x | y | z |\n",
       "|---|---|---|---|\n",
       "| a | 6  |  6 | 2  |\n",
       "| b | 5  | 10 | 3  |\n",
       "| c | 4  |  5 | 7  |\n",
       "\n"
      ],
      "text/plain": [
       "  x y  z\n",
       "a 6  6 2\n",
       "b 5 10 3\n",
       "c 4  5 7"
      ]
     },
     "metadata": {},
     "output_type": "display_data"
    }
   ],
   "source": [
    "rownames(A) <-c(\"a\",\"b\",\"c\")\n",
    "A"
   ]
  },
  {
   "cell_type": "code",
   "execution_count": null,
   "id": "6312053f",
   "metadata": {},
   "outputs": [],
   "source": []
  }
 ],
 "metadata": {
  "kernelspec": {
   "display_name": "R",
   "language": "R",
   "name": "ir"
  },
  "language_info": {
   "codemirror_mode": "r",
   "file_extension": ".r",
   "mimetype": "text/x-r-source",
   "name": "R",
   "pygments_lexer": "r",
   "version": "3.6.1"
  }
 },
 "nbformat": 4,
 "nbformat_minor": 5
}
