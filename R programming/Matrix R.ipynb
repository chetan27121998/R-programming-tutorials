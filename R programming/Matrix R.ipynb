{
 "cells": [
  {
   "cell_type": "markdown",
   "id": "c1719aa4",
   "metadata": {},
   "source": [
    "#Arranging elements sequentially by row.  \n",
    "P <- matrix(c(5:16), nrow = 4, byrow = TRUE)  \n",
    "print(P)  \n",
    "  \n",
    "# Arranging elements sequentially by column.  \n",
    "Q <- matrix(c(3:14), nrow = 4, byrow = FALSE)  \n",
    "print(Q)  \n",
    "  \n",
    "# Defining the column and row names.  \n",
    "row_names = c(\"row1\", \"row2\", \"row3\", \"row4\")  \n",
    "ccol_names = c(\"col1\", \"col2\", \"col3\")  \n",
    "  \n",
    "R <- matrix(c(3:14), nrow = 4, byrow = TRUE, dimnames = list(row_names, col_names))  \n",
    "print(R)  "
   ]
  },
  {
   "cell_type": "code",
   "execution_count": 1,
   "id": "176d9498",
   "metadata": {},
   "outputs": [],
   "source": [
    " # Arithmetic operations on matrix :- \n",
    "# Add 2 matrix : row and columns of both matrix are same\n",
    "# Substract of 2 matrix : row and columns of both matrix are same\n",
    "# Multiplication of matrix\n",
    "# "
   ]
  },
  {
   "cell_type": "code",
   "execution_count": 2,
   "id": "97515991",
   "metadata": {},
   "outputs": [
    {
     "name": "stdout",
     "output_type": "stream",
     "text": [
      "     [,1] [,2]\n",
      "[1,]    5    6\n",
      "[2,]    7    8\n"
     ]
    }
   ],
   "source": [
    "# Create a first matrix A\n",
    "V= 5 : 8\n",
    "A = matrix(V,nrow=2,ncol=2,byrow=TRUE)\n",
    "print(A)"
   ]
  },
  {
   "cell_type": "code",
   "execution_count": 5,
   "id": "61fd25fe",
   "metadata": {},
   "outputs": [
    {
     "name": "stdout",
     "output_type": "stream",
     "text": [
      "     [,1] [,2]\n",
      "[1,]    1    2\n",
      "[2,]    3    4\n"
     ]
    }
   ],
   "source": [
    "# Create a B matrix\n",
    "v = 1:4\n",
    "B = matrix(v,nrow=2,ncol=2,byrow=TRUE)\n",
    "print(B)"
   ]
  },
  {
   "cell_type": "code",
   "execution_count": 6,
   "id": "5de1f718",
   "metadata": {},
   "outputs": [
    {
     "name": "stdout",
     "output_type": "stream",
     "text": [
      "     [,1] [,2]\n",
      "[1,]    6    8\n",
      "[2,]   10   12\n"
     ]
    }
   ],
   "source": [
    "# Sum of 2 Matrix\n",
    "print(A+B)"
   ]
  },
  {
   "cell_type": "code",
   "execution_count": 7,
   "id": "c11c6876",
   "metadata": {},
   "outputs": [
    {
     "name": "stdout",
     "output_type": "stream",
     "text": [
      "     [,1] [,2]\n",
      "[1,]    4    4\n",
      "[2,]    4    4\n"
     ]
    }
   ],
   "source": [
    "# Substract of 2 matrix\n",
    "print(A- B)"
   ]
  },
  {
   "cell_type": "code",
   "execution_count": 9,
   "id": "5ece894f",
   "metadata": {},
   "outputs": [
    {
     "name": "stdout",
     "output_type": "stream",
     "text": [
      "     [,1] [,2]\n",
      "[1,]    5   12\n",
      "[2,]   21   32\n"
     ]
    }
   ],
   "source": [
    "# Multiply of 2 matrix\n",
    "print(A*B)  # CROSS MULTIPLICATION"
   ]
  },
  {
   "cell_type": "code",
   "execution_count": 10,
   "id": "d8cf35c6",
   "metadata": {},
   "outputs": [
    {
     "name": "stdout",
     "output_type": "stream",
     "text": [
      "     [,1] [,2]\n",
      "[1,]   23   34\n",
      "[2,]   31   46\n"
     ]
    }
   ],
   "source": [
    "# Dot product or dot mulitplicaiton of 2 matirx\n",
    "print(A%*%B)\n",
    "\n",
    "# (5 X 1+ 3 X 6) = 23       (5 X 2 + 6 X 4) = 34\n",
    "# (7 X 1 + 8 X 3) = 31      (7 X 2 + 8 X 4) = 46"
   ]
  },
  {
   "cell_type": "code",
   "execution_count": 13,
   "id": "4eb13f45",
   "metadata": {},
   "outputs": [
    {
     "name": "stdout",
     "output_type": "stream",
     "text": [
      "     [,1] [,2]\n",
      "[1,]    5    6\n",
      "[2,]    7    8\n"
     ]
    }
   ],
   "source": [
    "# Transpose of matrix:\n",
    "print(A)"
   ]
  },
  {
   "cell_type": "code",
   "execution_count": 17,
   "id": "12df7785",
   "metadata": {},
   "outputs": [
    {
     "data": {
      "text/html": [
       "<table class=\"dataframe\">\n",
       "<caption>A matrix: 2 × 2 of type int</caption>\n",
       "<tbody>\n",
       "\t<tr><td>5</td><td>7</td></tr>\n",
       "\t<tr><td>6</td><td>8</td></tr>\n",
       "</tbody>\n",
       "</table>\n"
      ],
      "text/latex": [
       "A matrix: 2 × 2 of type int\n",
       "\\begin{tabular}{ll}\n",
       "\t 5 & 7\\\\\n",
       "\t 6 & 8\\\\\n",
       "\\end{tabular}\n"
      ],
      "text/markdown": [
       "\n",
       "A matrix: 2 × 2 of type int\n",
       "\n",
       "| 5 | 7 |\n",
       "| 6 | 8 |\n",
       "\n"
      ],
      "text/plain": [
       "     [,1] [,2]\n",
       "[1,] 5    7   \n",
       "[2,] 6    8   "
      ]
     },
     "metadata": {},
     "output_type": "display_data"
    }
   ],
   "source": [
    "# Transpose of A matrix then use inbuilt function t( matrix )\n",
    " t(A)\n"
   ]
  },
  {
   "cell_type": "code",
   "execution_count": null,
   "id": "62f2e8a0",
   "metadata": {},
   "outputs": [],
   "source": [
    "#  "
   ]
  }
 ],
 "metadata": {
  "kernelspec": {
   "display_name": "R",
   "language": "R",
   "name": "ir"
  },
  "language_info": {
   "codemirror_mode": "r",
   "file_extension": ".r",
   "mimetype": "text/x-r-source",
   "name": "R",
   "pygments_lexer": "r",
   "version": "4.1.2"
  }
 },
 "nbformat": 4,
 "nbformat_minor": 5
}
