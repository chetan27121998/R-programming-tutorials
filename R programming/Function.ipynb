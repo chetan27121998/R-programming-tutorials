{
 "cells": [
  {
   "cell_type": "code",
   "execution_count": 2,
   "id": "1c3ba8ae",
   "metadata": {},
   "outputs": [
    {
     "name": "stdout",
     "output_type": "stream",
     "text": [
      "Enter the triangle a : 3\n",
      "Enter the triangle b : 4\n",
      "Enter the triangle c : 6\n",
      "Area of triangle :  5.332682"
     ]
    }
   ],
   "source": [
    "#WAP to find the area of triangle when given 3 sides of triangle\n",
    "\n",
    "a = as.integer(readline(\"Enter the triangle a : \"))\n",
    "b = as.integer(readline(\"Enter the triangle b : \"))\n",
    "c = as.integer(readline(\"Enter the triangle c : \"))\n",
    "s = (a+b+c)/2\n",
    "area =sqrt(s*(s-a)*(s-b)*(s-c))\n",
    "cat(\"Area of triangle : \",area)"
   ]
  },
  {
   "cell_type": "markdown",
   "id": "65a48780",
   "metadata": {},
   "source": [
    "### Ceiling() in R   but ( ceil in Python )"
   ]
  },
  {
   "cell_type": "code",
   "execution_count": 3,
   "id": "fd94afda",
   "metadata": {},
   "outputs": [
    {
     "name": "stdout",
     "output_type": "stream",
     "text": [
      "46"
     ]
    }
   ],
   "source": [
    "a= 45.3\n",
    "cat(ceiling(a))"
   ]
  },
  {
   "cell_type": "markdown",
   "id": "0a2e4097",
   "metadata": {},
   "source": [
    "### floor"
   ]
  },
  {
   "cell_type": "code",
   "execution_count": 4,
   "id": "024cb45e",
   "metadata": {},
   "outputs": [
    {
     "name": "stdout",
     "output_type": "stream",
     "text": [
      "-45"
     ]
    }
   ],
   "source": [
    "a = -45.3\n",
    "cat(ceiling(a))"
   ]
  },
  {
   "cell_type": "code",
   "execution_count": 5,
   "id": "38c61ac5",
   "metadata": {},
   "outputs": [
    {
     "name": "stdout",
     "output_type": "stream",
     "text": [
      "56"
     ]
    }
   ],
   "source": [
    "a = 56.89\n",
    "cat(floor(a))"
   ]
  },
  {
   "cell_type": "markdown",
   "id": "abcbe662",
   "metadata": {},
   "source": [
    "### pow(base,power)"
   ]
  },
  {
   "cell_type": "code",
   "execution_count": 6,
   "id": "bb9608af",
   "metadata": {},
   "outputs": [
    {
     "data": {
      "text/html": [
       "32"
      ],
      "text/latex": [
       "32"
      ],
      "text/markdown": [
       "32"
      ],
      "text/plain": [
       "[1] 32"
      ]
     },
     "metadata": {},
     "output_type": "display_data"
    }
   ],
   "source": [
    "x = 2\n",
    "n = 5\n",
    "x^n  # pow(x,n)"
   ]
  },
  {
   "cell_type": "markdown",
   "id": "c1db5579",
   "metadata": {},
   "source": [
    "### String function"
   ]
  },
  {
   "cell_type": "code",
   "execution_count": 7,
   "id": "7e53c424",
   "metadata": {},
   "outputs": [
    {
     "data": {
      "text/html": [
       "'chetan'"
      ],
      "text/latex": [
       "'chetan'"
      ],
      "text/markdown": [
       "'chetan'"
      ],
      "text/plain": [
       "[1] \"chetan\""
      ]
     },
     "metadata": {},
     "output_type": "display_data"
    }
   ],
   "source": [
    "# 1.) tolower() : to convert string in upper case to lower case\n",
    "a = 'Chetan'\n",
    "tolower(a)"
   ]
  },
  {
   "cell_type": "code",
   "execution_count": 8,
   "id": "e3132883",
   "metadata": {},
   "outputs": [
    {
     "data": {
      "text/html": [
       "'CHETAN'"
      ],
      "text/latex": [
       "'CHETAN'"
      ],
      "text/markdown": [
       "'CHETAN'"
      ],
      "text/plain": [
       "[1] \"CHETAN\""
      ]
     },
     "metadata": {},
     "output_type": "display_data"
    }
   ],
   "source": [
    "# 2.) toupper() : to convert the string in small letter to capital letter \n",
    "a = 'chetan'\n",
    "toupper(a)"
   ]
  },
  {
   "cell_type": "code",
   "execution_count": 11,
   "id": "e1450b01",
   "metadata": {},
   "outputs": [
    {
     "data": {
      "text/html": [
       "'chetan'"
      ],
      "text/latex": [
       "'chetan'"
      ],
      "text/markdown": [
       "'chetan'"
      ],
      "text/plain": [
       "[1] \"chetan\""
      ]
     },
     "metadata": {},
     "output_type": "display_data"
    }
   ],
   "source": [
    "# casefold() : similar to lower case function tolower()\n",
    "a= \"Chetan\"\n",
    "casefold(a)"
   ]
  },
  {
   "cell_type": "code",
   "execution_count": 13,
   "id": "85ef4323",
   "metadata": {},
   "outputs": [
    {
     "data": {
      "text/html": [
       "'CHETAN'"
      ],
      "text/latex": [
       "'CHETAN'"
      ],
      "text/markdown": [
       "'CHETAN'"
      ],
      "text/plain": [
       "[1] \"CHETAN\""
      ]
     },
     "metadata": {},
     "output_type": "display_data"
    }
   ],
   "source": [
    "casefold(a,upper=TRUE)"
   ]
  },
  {
   "cell_type": "code",
   "execution_count": 14,
   "id": "e82438f3",
   "metadata": {},
   "outputs": [
    {
     "data": {
      "text/html": [
       "'An honest mAn, gAve thAt food to the kids '"
      ],
      "text/latex": [
       "'An honest mAn, gAve thAt food to the kids '"
      ],
      "text/markdown": [
       "'An honest mAn, gAve thAt food to the kids '"
      ],
      "text/plain": [
       "[1] \"An honest mAn, gAve thAt food to the kids \""
      ]
     },
     "metadata": {},
     "output_type": "display_data"
    }
   ],
   "source": [
    "# Character replacement can be translated using the chartr(old_char, new_char, text_input)\n",
    "txt = \"An honest man, gave that food to the kids \"\n",
    "# \"a \" is replace by \"A\"\n",
    "chartr(\"a\",\"A\",txt)"
   ]
  },
  {
   "cell_type": "code",
   "execution_count": 15,
   "id": "ae609170",
   "metadata": {},
   "outputs": [
    {
     "data": {
      "text/html": [
       "<ol>\n",
       "\t<li><style>\n",
       ".list-inline {list-style: none; margin:0; padding: 0}\n",
       ".list-inline>li {display: inline-block}\n",
       ".list-inline>li:not(:last-child)::after {content: \"\\00b7\"; padding: 0 .5ex}\n",
       "</style>\n",
       "<ol class=list-inline><li>'An'</li><li>'honest'</li><li>'man,'</li><li>'gave'</li><li>'that'</li><li>'food'</li><li>'to'</li><li>'the'</li><li>'kids'</li></ol>\n",
       "</li>\n",
       "</ol>\n"
      ],
      "text/latex": [
       "\\begin{enumerate}\n",
       "\\item \\begin{enumerate*}\n",
       "\\item 'An'\n",
       "\\item 'honest'\n",
       "\\item 'man,'\n",
       "\\item 'gave'\n",
       "\\item 'that'\n",
       "\\item 'food'\n",
       "\\item 'to'\n",
       "\\item 'the'\n",
       "\\item 'kids'\n",
       "\\end{enumerate*}\n",
       "\n",
       "\\end{enumerate}\n"
      ],
      "text/markdown": [
       "1. 1. 'An'\n",
       "2. 'honest'\n",
       "3. 'man,'\n",
       "4. 'gave'\n",
       "5. 'that'\n",
       "6. 'food'\n",
       "7. 'to'\n",
       "8. 'the'\n",
       "9. 'kids'\n",
       "\n",
       "\n",
       "\n",
       "\n",
       "\n"
      ],
      "text/plain": [
       "[[1]]\n",
       "[1] \"An\"     \"honest\" \"man,\"   \"gave\"   \"that\"   \"food\"   \"to\"     \"the\"   \n",
       "[9] \"kids\"  \n"
      ]
     },
     "metadata": {},
     "output_type": "display_data"
    }
   ],
   "source": [
    "# Split the string : to break the word in sentence.\n",
    "txt = \"An honest man, gave that food to the kids \"\n",
    "strsplit(txt,\" \")"
   ]
  },
  {
   "cell_type": "code",
   "execution_count": 18,
   "id": "c3289011",
   "metadata": {},
   "outputs": [
    {
     "data": {
      "text/html": [
       "'n hones'"
      ],
      "text/latex": [
       "'n hones'"
      ],
      "text/markdown": [
       "'n hones'"
      ],
      "text/plain": [
       "[1] \"n hones\""
      ]
     },
     "metadata": {},
     "output_type": "display_data"
    }
   ],
   "source": [
    "txt = \"An honest man, gave that food to the kids \"\n",
    "substr(txt,2,8)"
   ]
  },
  {
   "cell_type": "markdown",
   "id": "69ef2c3d",
   "metadata": {},
   "source": [
    "### datetime inbuilt function in r\n",
    "### now () : to show system date and time means show current date and time\n",
    "### now() inbuilt function is define in inbuilt library\n",
    "### lubridate:\n",
    "### In r, cll library then use inbuilt command library()"
   ]
  },
  {
   "cell_type": "code",
   "execution_count": 2,
   "id": "93eed6d2",
   "metadata": {},
   "outputs": [
    {
     "name": "stderr",
     "output_type": "stream",
     "text": [
      "\n",
      "Attaching package: 'lubridate'\n",
      "\n",
      "\n",
      "The following objects are masked from 'package:base':\n",
      "\n",
      "    date, intersect, setdiff, union\n",
      "\n",
      "\n"
     ]
    },
    {
     "data": {
      "text/plain": [
       "[1] \"2022-02-17 16:47:11 IST\""
      ]
     },
     "metadata": {},
     "output_type": "display_data"
    }
   ],
   "source": [
    "library(lubridate)\n",
    "now()"
   ]
  },
  {
   "cell_type": "code",
   "execution_count": 1,
   "id": "b49c2331",
   "metadata": {},
   "outputs": [
    {
     "name": "stderr",
     "output_type": "stream",
     "text": [
      "Installing package into 'C:/Users/Admin/Documents/R/win-library/4.1'\n",
      "(as 'lib' is unspecified)\n",
      "\n"
     ]
    },
    {
     "name": "stdout",
     "output_type": "stream",
     "text": [
      "package 'lubridate' successfully unpacked and MD5 sums checked\n",
      "\n",
      "The downloaded binary packages are in\n",
      "\tC:\\Users\\Admin\\AppData\\Local\\Temp\\RtmpaYCDGS\\downloaded_packages\n"
     ]
    }
   ],
   "source": [
    "install.packages(\"lubridate\")"
   ]
  },
  {
   "cell_type": "code",
   "execution_count": 3,
   "id": "12d06b23",
   "metadata": {},
   "outputs": [
    {
     "name": "stdout",
     "output_type": "stream",
     "text": [
      "Type of DOB :  character[1] \"1998-03-13\"\n",
      "Date"
     ]
    }
   ],
   "source": [
    "#by default date's format yyyy-mm-dd hh:mm:ss \n",
    "#suppose store date of birth of any student\n",
    "dob=\"03/13/1998\" #format mm/dd/yyyy\n",
    "cat(\"Type of DOB : \",class(dob))\n",
    "#but we want to change datatype of dob from character to\n",
    "#DAte type : use inbuilt type casting as.Date()\n",
    "dob=as.Date(dob,format='%m/%d/%Y')\n",
    "print(dob)\n",
    "cat(class(dob))\n",
    "#%m : means 2 digit of month (01,02,....12)\n",
    "#%d : means 2 digit of date (01,02,.....31)\n",
    "#%Y : means 4 digit of year (1998 ,2000 ..)\n",
    "#%y :means 2 digit of year means 98,21,22...."
   ]
  },
  {
   "cell_type": "code",
   "execution_count": 4,
   "id": "dab630f5",
   "metadata": {
    "scrolled": true
   },
   "outputs": [
    {
     "data": {
      "text/html": [
       "'character'"
      ],
      "text/latex": [
       "'character'"
      ],
      "text/markdown": [
       "'character'"
      ],
      "text/plain": [
       "[1] \"character\""
      ]
     },
     "metadata": {},
     "output_type": "display_data"
    }
   ],
   "source": [
    "dob = \"April 24,2003\"\n",
    "class(dob)"
   ]
  },
  {
   "cell_type": "code",
   "execution_count": 5,
   "id": "893bf932",
   "metadata": {},
   "outputs": [
    {
     "name": "stdout",
     "output_type": "stream",
     "text": [
      "12166"
     ]
    }
   ],
   "source": [
    "dob = as.Date(dob,format=\"%B %d,%Y\")\n",
    "cat(dob) # Showing the number of days"
   ]
  },
  {
   "cell_type": "code",
   "execution_count": 7,
   "id": "7812affc",
   "metadata": {},
   "outputs": [
    {
     "name": "stdout",
     "output_type": "stream",
     "text": [
      "[1] \"2003-04-24\"\n",
      "[1] \"Date\"\n"
     ]
    }
   ],
   "source": [
    "dob = as.Date(dob,format=\"%B %d,%Y\")\n",
    "print(dob)   # YYYY - MM - DD\n",
    "print(class(dob))"
   ]
  },
  {
   "cell_type": "code",
   "execution_count": 8,
   "id": "f48909d9",
   "metadata": {},
   "outputs": [
    {
     "name": "stdout",
     "output_type": "stream",
     "text": [
      "[1] \"2003-04-24\"\n",
      "[1] \"Date\"\n"
     ]
    }
   ],
   "source": [
    "dob = as.Date(dob,format=\"%b %d,%Y\")\n",
    "print(dob)   # YYYY - MM - DD\n",
    "print(class(dob))"
   ]
  },
  {
   "cell_type": "code",
   "execution_count": 13,
   "id": "d75583f3",
   "metadata": {},
   "outputs": [],
   "source": [
    "dob = \"Wed 16-02-2022\"\n",
    "dob = as.Date(dob,format=\"%a %d-%m-%Y\")"
   ]
  },
  {
   "cell_type": "code",
   "execution_count": 14,
   "id": "a62189ee",
   "metadata": {},
   "outputs": [
    {
     "data": {
      "text/html": [
       "<time datetime=\"2022-02-16\">2022-02-16</time>"
      ],
      "text/latex": [
       "2022-02-16"
      ],
      "text/markdown": [
       "2022-02-16"
      ],
      "text/plain": [
       "[1] \"2022-02-16\""
      ]
     },
     "metadata": {},
     "output_type": "display_data"
    }
   ],
   "source": [
    "dob"
   ]
  },
  {
   "cell_type": "code",
   "execution_count": null,
   "id": "aa4b26cf",
   "metadata": {},
   "outputs": [],
   "source": []
  }
 ],
 "metadata": {
  "kernelspec": {
   "display_name": "R",
   "language": "R",
   "name": "ir"
  },
  "language_info": {
   "codemirror_mode": "r",
   "file_extension": ".r",
   "mimetype": "text/x-r-source",
   "name": "R",
   "pygments_lexer": "r",
   "version": "4.1.2"
  }
 },
 "nbformat": 4,
 "nbformat_minor": 5
}
