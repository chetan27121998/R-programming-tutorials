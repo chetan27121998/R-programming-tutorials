{
 "cells": [
  {
   "cell_type": "markdown",
   "id": "58da97ab",
   "metadata": {},
   "source": [
    "### What is a vector? "
   ]
  },
  {
   "cell_type": "markdown",
   "id": "8d55dacd",
   "metadata": {},
   "source": [
    "### A vector is a collection of elements which is most commonly of mode character, integer, logical or numeric"
   ]
  },
  {
   "cell_type": "markdown",
   "id": "13f53351",
   "metadata": {},
   "source": [
    "### How to create it? "
   ]
  },
  {
   "cell_type": "code",
   "execution_count": 1,
   "id": "a5d51cd5",
   "metadata": {},
   "outputs": [
    {
     "name": "stdout",
     "output_type": "stream",
     "text": [
      "[1]  5  6  7  8  9 10 11 12 13\n"
     ]
    }
   ],
   "source": [
    "# Creating the vector\n",
    "# Creating a sequence from 5 to 13.\n",
    "vector <- 5:13\n",
    "print(vector)"
   ]
  },
  {
   "cell_type": "markdown",
   "id": "4d53eb20",
   "metadata": {},
   "source": [
    "### Create a vector A of elements 5, 2, -2, 6,7,10,12,14,15 and from it create a vector Y containing elements of A>6"
   ]
  },
  {
   "cell_type": "code",
   "execution_count": 10,
   "id": "e7b24efb",
   "metadata": {},
   "outputs": [
    {
     "name": "stdout",
     "output_type": "stream",
     "text": [
      "[1]  5  2 -2  6  7 10 12 14 15\n"
     ]
    }
   ],
   "source": [
    "Vector_A <-c(5,2,-2,6,7,10,12,14,15)\n",
    "print(Vector_A)"
   ]
  },
  {
   "cell_type": "code",
   "execution_count": 12,
   "id": "66138fd8",
   "metadata": {},
   "outputs": [
    {
     "data": {
      "text/html": [
       "<ol class=list-inline>\n",
       "\t<li>FALSE</li>\n",
       "\t<li>FALSE</li>\n",
       "\t<li>FALSE</li>\n",
       "\t<li>FALSE</li>\n",
       "\t<li>TRUE</li>\n",
       "\t<li>TRUE</li>\n",
       "\t<li>TRUE</li>\n",
       "\t<li>TRUE</li>\n",
       "\t<li>TRUE</li>\n",
       "</ol>\n"
      ],
      "text/latex": [
       "\\begin{enumerate*}\n",
       "\\item FALSE\n",
       "\\item FALSE\n",
       "\\item FALSE\n",
       "\\item FALSE\n",
       "\\item TRUE\n",
       "\\item TRUE\n",
       "\\item TRUE\n",
       "\\item TRUE\n",
       "\\item TRUE\n",
       "\\end{enumerate*}\n"
      ],
      "text/markdown": [
       "1. FALSE\n",
       "2. FALSE\n",
       "3. FALSE\n",
       "4. FALSE\n",
       "5. TRUE\n",
       "6. TRUE\n",
       "7. TRUE\n",
       "8. TRUE\n",
       "9. TRUE\n",
       "\n",
       "\n"
      ],
      "text/plain": [
       "[1] FALSE FALSE FALSE FALSE  TRUE  TRUE  TRUE  TRUE  TRUE"
      ]
     },
     "metadata": {},
     "output_type": "display_data"
    }
   ],
   "source": [
    "Vector_A>6"
   ]
  },
  {
   "cell_type": "code",
   "execution_count": 11,
   "id": "cd58ad77",
   "metadata": {},
   "outputs": [
    {
     "name": "stdout",
     "output_type": "stream",
     "text": [
      "[1]  7 10 12 14 15\n"
     ]
    }
   ],
   "source": [
    "Vector_Y<- Vector_A[c(FALSE,FALSE,FALSE, FALSE , TRUE , TRUE , TRUE , TRUE , TRUE)]\n",
    "print(Vector_Y)"
   ]
  },
  {
   "cell_type": "code",
   "execution_count": null,
   "id": "90bc0116",
   "metadata": {},
   "outputs": [],
   "source": []
  }
 ],
 "metadata": {
  "kernelspec": {
   "display_name": "R",
   "language": "R",
   "name": "ir"
  },
  "language_info": {
   "codemirror_mode": "r",
   "file_extension": ".r",
   "mimetype": "text/x-r-source",
   "name": "R",
   "pygments_lexer": "r",
   "version": "3.6.1"
  }
 },
 "nbformat": 4,
 "nbformat_minor": 5
}
