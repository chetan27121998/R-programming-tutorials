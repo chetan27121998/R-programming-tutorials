{
 "cells": [
  {
   "cell_type": "markdown",
   "id": "d52b5810",
   "metadata": {},
   "source": [
    "### Write  code to accept 2 numbers from user and display add, sub, mul and div."
   ]
  },
  {
   "cell_type": "code",
   "execution_count": 1,
   "id": "de7e2d4d",
   "metadata": {},
   "outputs": [
    {
     "name": "stdout",
     "output_type": "stream",
     "text": [
      "Enter the First number: 122\n",
      "Enter the second number : 10\n",
      "Addition of two numbers is :  132\n",
      "Substraction of two numbers is :  112\n",
      "Multiplication of two numbers is :  1220\n",
      "Division of two number is :  12.2"
     ]
    }
   ],
   "source": [
    "num1<-as.integer(readline(\"Enter the First number: \"))\n",
    "num2<-as.integer(readline(\"Enter the second number : \"))\n",
    "cat(\"Addition of two numbers is : \",num1+num2)\n",
    "cat(\"\\nSubstraction of two numbers is : \",num1-num2)\n",
    "cat(\"\\nMultiplication of two numbers is : \",num1*num2)\n",
    "cat(\"\\nDivision of two number is : \",num1/num2)"
   ]
  },
  {
   "cell_type": "markdown",
   "id": "0f63b744",
   "metadata": {},
   "source": [
    "### Write a code to find Area of Circle."
   ]
  },
  {
   "cell_type": "code",
   "execution_count": 2,
   "id": "b096d9a2",
   "metadata": {},
   "outputs": [
    {
     "name": "stdout",
     "output_type": "stream",
     "text": [
      "Enter the radius of circle : 10\n",
      "Area of cirlce is :  314"
     ]
    }
   ],
   "source": [
    "radius<-as.integer(readline(\"Enter the radius of circle : \"))\n",
    "area<-(3.14)*radius*radius\n",
    "cat(\"Area of cirlce is : \",area)"
   ]
  },
  {
   "cell_type": "code",
   "execution_count": null,
   "id": "c092ca0d",
   "metadata": {},
   "outputs": [],
   "source": []
  }
 ],
 "metadata": {
  "kernelspec": {
   "display_name": "R",
   "language": "R",
   "name": "ir"
  },
  "language_info": {
   "codemirror_mode": "r",
   "file_extension": ".r",
   "mimetype": "text/x-r-source",
   "name": "R",
   "pygments_lexer": "r",
   "version": "3.6.1"
  }
 },
 "nbformat": 4,
 "nbformat_minor": 5
}
