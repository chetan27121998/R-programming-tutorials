{
 "cells": [
  {
   "cell_type": "markdown",
   "id": "f296206c",
   "metadata": {},
   "source": [
    "### Create the following vectors in R.\n",
    "    a = (5, 10, 15, 20, …, 160) b = (87, 86, 85, …, 56)\n",
    "    Use vector arithmetic to multiply these vectors and call the result ‘d’. Select\n",
    "\n",
    "    subsets of d to identify the following.\n",
    "\n",
    "    What are the 19th, 20th, and 21st elements of d?\n",
    "\n",
    "    What are all of the elements of d which are less than 2000?\n",
    "\n",
    "    How many elements of d are greater than 6000?"
   ]
  },
  {
   "cell_type": "code",
   "execution_count": 8,
   "id": "43535efc",
   "metadata": {},
   "outputs": [],
   "source": [
    "a<-seq(from=5,to=160,by=5)\n",
    "b<-87:56"
   ]
  },
  {
   "cell_type": "code",
   "execution_count": 10,
   "id": "0fccd149",
   "metadata": {},
   "outputs": [
    {
     "name": "stdout",
     "output_type": "stream",
     "text": [
      " [1]   5  10  15  20  25  30  35  40  45  50  55  60  65  70  75  80  85  90  95\n",
      "[20] 100 105 110 115 120 125 130 135 140 145 150 155 160\n"
     ]
    }
   ],
   "source": [
    "print(a)"
   ]
  },
  {
   "cell_type": "code",
   "execution_count": 11,
   "id": "6bd374bd",
   "metadata": {},
   "outputs": [
    {
     "name": "stdout",
     "output_type": "stream",
     "text": [
      " [1] 87 86 85 84 83 82 81 80 79 78 77 76 75 74 73 72 71 70 69 68 67 66 65 64 63\n",
      "[26] 62 61 60 59 58 57 56\n"
     ]
    }
   ],
   "source": [
    "print(b)"
   ]
  },
  {
   "cell_type": "code",
   "execution_count": 13,
   "id": "a34bfd88",
   "metadata": {},
   "outputs": [
    {
     "name": "stdout",
     "output_type": "stream",
     "text": [
      " [1]  435  860 1275 1680 2075 2460 2835 3200 3555 3900 4235 4560 4875 5180 5475\n",
      "[16] 5760 6035 6300 6555 6800 7035 7260 7475 7680 7875 8060 8235 8400 8555 8700\n",
      "[31] 8835 8960\n"
     ]
    }
   ],
   "source": [
    "# Use vector arithmetic to multiply these vectors and call the result ‘d’\n",
    "d<-a*b\n",
    "print(d)"
   ]
  },
  {
   "cell_type": "code",
   "execution_count": 14,
   "id": "98d346e3",
   "metadata": {},
   "outputs": [
    {
     "data": {
      "text/html": [
       "<ol class=list-inline>\n",
       "\t<li>6555</li>\n",
       "\t<li>6800</li>\n",
       "\t<li>7035</li>\n",
       "</ol>\n"
      ],
      "text/latex": [
       "\\begin{enumerate*}\n",
       "\\item 6555\n",
       "\\item 6800\n",
       "\\item 7035\n",
       "\\end{enumerate*}\n"
      ],
      "text/markdown": [
       "1. 6555\n",
       "2. 6800\n",
       "3. 7035\n",
       "\n",
       "\n"
      ],
      "text/plain": [
       "[1] 6555 6800 7035"
      ]
     },
     "metadata": {},
     "output_type": "display_data"
    }
   ],
   "source": [
    "# What are the 19th, 20th, and 21st elements of d?.\n",
    "d[c(19,20,21)]"
   ]
  },
  {
   "cell_type": "code",
   "execution_count": 15,
   "id": "fb23c929",
   "metadata": {},
   "outputs": [
    {
     "data": {
      "text/html": [
       "<ol class=list-inline>\n",
       "\t<li>435</li>\n",
       "\t<li>860</li>\n",
       "\t<li>1275</li>\n",
       "\t<li>1680</li>\n",
       "</ol>\n"
      ],
      "text/latex": [
       "\\begin{enumerate*}\n",
       "\\item 435\n",
       "\\item 860\n",
       "\\item 1275\n",
       "\\item 1680\n",
       "\\end{enumerate*}\n"
      ],
      "text/markdown": [
       "1. 435\n",
       "2. 860\n",
       "3. 1275\n",
       "4. 1680\n",
       "\n",
       "\n"
      ],
      "text/plain": [
       "[1]  435  860 1275 1680"
      ]
     },
     "metadata": {},
     "output_type": "display_data"
    }
   ],
   "source": [
    "# What are all of the elements of d which are less than 2000?\n",
    "j<-d<2000\n",
    "d[j]"
   ]
  },
  {
   "cell_type": "code",
   "execution_count": 18,
   "id": "845a7364",
   "metadata": {},
   "outputs": [
    {
     "data": {
      "text/html": [
       "16"
      ],
      "text/latex": [
       "16"
      ],
      "text/markdown": [
       "16"
      ],
      "text/plain": [
       "[1] 16"
      ]
     },
     "metadata": {},
     "output_type": "display_data"
    }
   ],
   "source": [
    "# How many elements of d are greater than 6000?\n",
    "k<-d>6000\n",
    "length(d[k])"
   ]
  },
  {
   "cell_type": "code",
   "execution_count": null,
   "id": "6aa28c4d",
   "metadata": {},
   "outputs": [],
   "source": []
  }
 ],
 "metadata": {
  "kernelspec": {
   "display_name": "R",
   "language": "R",
   "name": "ir"
  },
  "language_info": {
   "codemirror_mode": "r",
   "file_extension": ".r",
   "mimetype": "text/x-r-source",
   "name": "R",
   "pygments_lexer": "r",
   "version": "3.6.1"
  }
 },
 "nbformat": 4,
 "nbformat_minor": 5
}
