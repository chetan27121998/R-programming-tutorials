{
 "cells": [
  {
   "cell_type": "markdown",
   "id": "124676d2",
   "metadata": {},
   "source": [
    "### Write a R program to create a data frame from four given vectors?"
   ]
  },
  {
   "cell_type": "code",
   "execution_count": 1,
   "id": "709632b9",
   "metadata": {},
   "outputs": [],
   "source": [
    "# First create a vector for emp tables\n",
    "emp_id = 101:110\n",
    "emp_name=c(\"SMITH\",\"ALLEN\",\"CLARK\",\"JOHN\",\"MARTIN\",\"WARD\",\"BLAKE\",\"SCOTT\",\"KING\",\"MILLER\")\n",
    "job=c(\"CLERK\",\"SALESMAN\",\"MANAGER\",\"MANAGER\",\"SALESMAN\",\"SALESMAN\",\"ANALYST\",\"ANALYST\",\"PRESIDENT\",\"CLERK\")\n",
    "MGR=c(108,107,109,109,107,107,109,103,0,103)\n",
    "SAL=c(800,1600,1250,1200,1250,1500,2850,3000,5000,1300)\n",
    "HIREDATE=as.Date(c(\"1980-02-17\",\"1981-02-20\",\"1981-06-09\",\"1980-04-23\",\"1981-09-28\",\"1981-02-22\",\"1981-05-01\",\"1987-04-19\",\n",
    "                   \"1981-11-17\",\"1982-01-23\"))"
   ]
  },
  {
   "cell_type": "code",
   "execution_count": 2,
   "id": "1dcf9b94",
   "metadata": {},
   "outputs": [
    {
     "name": "stdout",
     "output_type": "stream",
     "text": [
      "   emp_id emp_name       job MGR  SAL   HIREDATE\n",
      "1     101    SMITH     CLERK 108  800 1980-02-17\n",
      "2     102    ALLEN  SALESMAN 107 1600 1981-02-20\n",
      "3     103    CLARK   MANAGER 109 1250 1981-06-09\n",
      "4     104     JOHN   MANAGER 109 1200 1980-04-23\n",
      "5     105   MARTIN  SALESMAN 107 1250 1981-09-28\n",
      "6     106     WARD  SALESMAN 107 1500 1981-02-22\n",
      "7     107    BLAKE   ANALYST 109 2850 1981-05-01\n",
      "8     108    SCOTT   ANALYST 103 3000 1987-04-19\n",
      "9     109     KING PRESIDENT   0 5000 1981-11-17\n",
      "10    110   MILLER     CLERK 103 1300 1982-01-23\n"
     ]
    }
   ],
   "source": [
    "# Create the data frame\n",
    "emp<-data.frame(emp_id,emp_name,job,MGR,SAL,HIREDATE)\n",
    "print(emp)"
   ]
  },
  {
   "cell_type": "markdown",
   "id": "cd748b65",
   "metadata": {},
   "source": [
    "### Write a R program to extract 3rd and 5th rows with 1st and 3rd columns from a given data frame"
   ]
  },
  {
   "cell_type": "code",
   "execution_count": 6,
   "id": "b14ed36a",
   "metadata": {},
   "outputs": [
    {
     "data": {
      "text/html": [
       "<table>\n",
       "<thead><tr><th></th><th scope=col>emp_id</th><th scope=col>job</th></tr></thead>\n",
       "<tbody>\n",
       "\t<tr><th scope=row>3</th><td>103     </td><td>MANAGER </td></tr>\n",
       "\t<tr><th scope=row>5</th><td>105     </td><td>SALESMAN</td></tr>\n",
       "</tbody>\n",
       "</table>\n"
      ],
      "text/latex": [
       "\\begin{tabular}{r|ll}\n",
       "  & emp\\_id & job\\\\\n",
       "\\hline\n",
       "\t3 & 103      & MANAGER \\\\\n",
       "\t5 & 105      & SALESMAN\\\\\n",
       "\\end{tabular}\n"
      ],
      "text/markdown": [
       "\n",
       "| <!--/--> | emp_id | job |\n",
       "|---|---|---|\n",
       "| 3 | 103      | MANAGER  |\n",
       "| 5 | 105      | SALESMAN |\n",
       "\n"
      ],
      "text/plain": [
       "  emp_id job     \n",
       "3 103    MANAGER \n",
       "5 105    SALESMAN"
      ]
     },
     "metadata": {},
     "output_type": "display_data"
    }
   ],
   "source": [
    "emp[c(3,5),c(\"emp_id\",\"job\")]"
   ]
  },
  {
   "cell_type": "markdown",
   "id": "85381263",
   "metadata": {},
   "source": [
    "### Write a R program to extract specific column from a data frame using column name. "
   ]
  },
  {
   "cell_type": "code",
   "execution_count": 5,
   "id": "42263e4d",
   "metadata": {},
   "outputs": [
    {
     "data": {
      "text/html": [
       "<table>\n",
       "<thead><tr><th scope=col>job</th></tr></thead>\n",
       "<tbody>\n",
       "\t<tr><td>CLERK    </td></tr>\n",
       "\t<tr><td>SALESMAN </td></tr>\n",
       "\t<tr><td>MANAGER  </td></tr>\n",
       "\t<tr><td>MANAGER  </td></tr>\n",
       "\t<tr><td>SALESMAN </td></tr>\n",
       "\t<tr><td>SALESMAN </td></tr>\n",
       "\t<tr><td>ANALYST  </td></tr>\n",
       "\t<tr><td>ANALYST  </td></tr>\n",
       "\t<tr><td>PRESIDENT</td></tr>\n",
       "\t<tr><td>CLERK    </td></tr>\n",
       "</tbody>\n",
       "</table>\n"
      ],
      "text/latex": [
       "\\begin{tabular}{r|l}\n",
       " job\\\\\n",
       "\\hline\n",
       "\t CLERK    \\\\\n",
       "\t SALESMAN \\\\\n",
       "\t MANAGER  \\\\\n",
       "\t MANAGER  \\\\\n",
       "\t SALESMAN \\\\\n",
       "\t SALESMAN \\\\\n",
       "\t ANALYST  \\\\\n",
       "\t ANALYST  \\\\\n",
       "\t PRESIDENT\\\\\n",
       "\t CLERK    \\\\\n",
       "\\end{tabular}\n"
      ],
      "text/markdown": [
       "\n",
       "| job |\n",
       "|---|\n",
       "| CLERK     |\n",
       "| SALESMAN  |\n",
       "| MANAGER   |\n",
       "| MANAGER   |\n",
       "| SALESMAN  |\n",
       "| SALESMAN  |\n",
       "| ANALYST   |\n",
       "| ANALYST   |\n",
       "| PRESIDENT |\n",
       "| CLERK     |\n",
       "\n"
      ],
      "text/plain": [
       "   job      \n",
       "1  CLERK    \n",
       "2  SALESMAN \n",
       "3  MANAGER  \n",
       "4  MANAGER  \n",
       "5  SALESMAN \n",
       "6  SALESMAN \n",
       "7  ANALYST  \n",
       "8  ANALYST  \n",
       "9  PRESIDENT\n",
       "10 CLERK    "
      ]
     },
     "metadata": {},
     "output_type": "display_data"
    }
   ],
   "source": [
    "emp[3]"
   ]
  },
  {
   "cell_type": "markdown",
   "id": "e33b98b7",
   "metadata": {},
   "source": [
    "###  Write a R program to get the statistical summary and nature of the data of a given data frame."
   ]
  },
  {
   "cell_type": "code",
   "execution_count": 4,
   "id": "de0a62fe",
   "metadata": {},
   "outputs": [
    {
     "data": {
      "text/plain": [
       "     emp_id         emp_name        job         MGR             SAL      \n",
       " Min.   :101.0   ALLEN  :1   ANALYST  :2   Min.   :  0.0   Min.   : 800  \n",
       " 1st Qu.:103.2   BLAKE  :1   CLERK    :2   1st Qu.:104.0   1st Qu.:1250  \n",
       " Median :105.5   CLARK  :1   MANAGER  :2   Median :107.0   Median :1400  \n",
       " Mean   :105.5   JOHN   :1   PRESIDENT:1   Mean   : 96.2   Mean   :1975  \n",
       " 3rd Qu.:107.8   KING   :1   SALESMAN :3   3rd Qu.:108.8   3rd Qu.:2538  \n",
       " Max.   :110.0   MARTIN :1                 Max.   :109.0   Max.   :5000  \n",
       "                 (Other):4                                               \n",
       "    HIREDATE         \n",
       " Min.   :1980-02-17  \n",
       " 1st Qu.:1981-02-20  \n",
       " Median :1981-05-20  \n",
       " Mean   :1981-11-05  \n",
       " 3rd Qu.:1981-11-04  \n",
       " Max.   :1987-04-19  \n",
       "                     "
      ]
     },
     "metadata": {},
     "output_type": "display_data"
    }
   ],
   "source": [
    "summary(emp)"
   ]
  },
  {
   "cell_type": "markdown",
   "id": "4db7ba82",
   "metadata": {},
   "source": [
    "###  Write a R program to drop column(s) by name from a given data frame."
   ]
  },
  {
   "cell_type": "code",
   "execution_count": 3,
   "id": "b7588067",
   "metadata": {},
   "outputs": [
    {
     "data": {
      "text/html": [
       "<table>\n",
       "<thead><tr><th scope=col>emp_id</th><th scope=col>emp_name</th><th scope=col>job</th><th scope=col>SAL</th><th scope=col>HIREDATE</th></tr></thead>\n",
       "<tbody>\n",
       "\t<tr><td>101       </td><td>SMITH     </td><td>CLERK     </td><td> 800      </td><td>1980-02-17</td></tr>\n",
       "\t<tr><td>102       </td><td>ALLEN     </td><td>SALESMAN  </td><td>1600      </td><td>1981-02-20</td></tr>\n",
       "\t<tr><td>103       </td><td>CLARK     </td><td>MANAGER   </td><td>1250      </td><td>1981-06-09</td></tr>\n",
       "\t<tr><td>104       </td><td>JOHN      </td><td>MANAGER   </td><td>1200      </td><td>1980-04-23</td></tr>\n",
       "\t<tr><td>105       </td><td>MARTIN    </td><td>SALESMAN  </td><td>1250      </td><td>1981-09-28</td></tr>\n",
       "\t<tr><td>106       </td><td>WARD      </td><td>SALESMAN  </td><td>1500      </td><td>1981-02-22</td></tr>\n",
       "\t<tr><td>107       </td><td>BLAKE     </td><td>ANALYST   </td><td>2850      </td><td>1981-05-01</td></tr>\n",
       "\t<tr><td>108       </td><td>SCOTT     </td><td>ANALYST   </td><td>3000      </td><td>1987-04-19</td></tr>\n",
       "\t<tr><td>109       </td><td>KING      </td><td>PRESIDENT </td><td>5000      </td><td>1981-11-17</td></tr>\n",
       "\t<tr><td>110       </td><td>MILLER    </td><td>CLERK     </td><td>1300      </td><td>1982-01-23</td></tr>\n",
       "</tbody>\n",
       "</table>\n"
      ],
      "text/latex": [
       "\\begin{tabular}{r|lllll}\n",
       " emp\\_id & emp\\_name & job & SAL & HIREDATE\\\\\n",
       "\\hline\n",
       "\t 101        & SMITH      & CLERK      &  800       & 1980-02-17\\\\\n",
       "\t 102        & ALLEN      & SALESMAN   & 1600       & 1981-02-20\\\\\n",
       "\t 103        & CLARK      & MANAGER    & 1250       & 1981-06-09\\\\\n",
       "\t 104        & JOHN       & MANAGER    & 1200       & 1980-04-23\\\\\n",
       "\t 105        & MARTIN     & SALESMAN   & 1250       & 1981-09-28\\\\\n",
       "\t 106        & WARD       & SALESMAN   & 1500       & 1981-02-22\\\\\n",
       "\t 107        & BLAKE      & ANALYST    & 2850       & 1981-05-01\\\\\n",
       "\t 108        & SCOTT      & ANALYST    & 3000       & 1987-04-19\\\\\n",
       "\t 109        & KING       & PRESIDENT  & 5000       & 1981-11-17\\\\\n",
       "\t 110        & MILLER     & CLERK      & 1300       & 1982-01-23\\\\\n",
       "\\end{tabular}\n"
      ],
      "text/markdown": [
       "\n",
       "| emp_id | emp_name | job | SAL | HIREDATE |\n",
       "|---|---|---|---|---|\n",
       "| 101        | SMITH      | CLERK      |  800       | 1980-02-17 |\n",
       "| 102        | ALLEN      | SALESMAN   | 1600       | 1981-02-20 |\n",
       "| 103        | CLARK      | MANAGER    | 1250       | 1981-06-09 |\n",
       "| 104        | JOHN       | MANAGER    | 1200       | 1980-04-23 |\n",
       "| 105        | MARTIN     | SALESMAN   | 1250       | 1981-09-28 |\n",
       "| 106        | WARD       | SALESMAN   | 1500       | 1981-02-22 |\n",
       "| 107        | BLAKE      | ANALYST    | 2850       | 1981-05-01 |\n",
       "| 108        | SCOTT      | ANALYST    | 3000       | 1987-04-19 |\n",
       "| 109        | KING       | PRESIDENT  | 5000       | 1981-11-17 |\n",
       "| 110        | MILLER     | CLERK      | 1300       | 1982-01-23 |\n",
       "\n"
      ],
      "text/plain": [
       "   emp_id emp_name job       SAL  HIREDATE  \n",
       "1  101    SMITH    CLERK      800 1980-02-17\n",
       "2  102    ALLEN    SALESMAN  1600 1981-02-20\n",
       "3  103    CLARK    MANAGER   1250 1981-06-09\n",
       "4  104    JOHN     MANAGER   1200 1980-04-23\n",
       "5  105    MARTIN   SALESMAN  1250 1981-09-28\n",
       "6  106    WARD     SALESMAN  1500 1981-02-22\n",
       "7  107    BLAKE    ANALYST   2850 1981-05-01\n",
       "8  108    SCOTT    ANALYST   3000 1987-04-19\n",
       "9  109    KING     PRESIDENT 5000 1981-11-17\n",
       "10 110    MILLER   CLERK     1300 1982-01-23"
      ]
     },
     "metadata": {},
     "output_type": "display_data"
    }
   ],
   "source": [
    "emp[-4] # Temporary"
   ]
  },
  {
   "cell_type": "code",
   "execution_count": null,
   "id": "8592fb40",
   "metadata": {},
   "outputs": [],
   "source": []
  }
 ],
 "metadata": {
  "kernelspec": {
   "display_name": "R",
   "language": "R",
   "name": "ir"
  },
  "language_info": {
   "codemirror_mode": "r",
   "file_extension": ".r",
   "mimetype": "text/x-r-source",
   "name": "R",
   "pygments_lexer": "r",
   "version": "3.6.1"
  }
 },
 "nbformat": 4,
 "nbformat_minor": 5
}
