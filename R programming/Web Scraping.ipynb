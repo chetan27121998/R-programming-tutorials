{
 "cells": [
  {
   "cell_type": "code",
   "execution_count": 1,
   "id": "609a0563",
   "metadata": {},
   "outputs": [],
   "source": [
    "# Web Scarping \n",
    "#install.packages(\"rvest\")"
   ]
  },
  {
   "cell_type": "code",
   "execution_count": 2,
   "id": "1496d5c4",
   "metadata": {},
   "outputs": [],
   "source": [
    "library(rvest)\n",
    "library(stringr)"
   ]
  },
  {
   "cell_type": "code",
   "execution_count": 3,
   "id": "43b4642d",
   "metadata": {},
   "outputs": [
    {
     "name": "stdout",
     "output_type": "stream",
     "text": [
      "[1] \"        OnePlus 9 Winter Mist, 5G Unlocked Android Smartphone U.S Version, 8GB RAM+128GB Storage, 120Hz Fluid Display, Hasselblad Triple Camera, 65W Ultra Fast Charge, 15W Wireless Charge, with Alexa Built-in       \"\n"
     ]
    }
   ],
   "source": [
    "url = \"https://www.amazon.com/OnePlus-Unlocked-Smartphone-Hasselblad-Wireless/dp/B08Y727NMK/?_encoding=UTF8&pd_rd_w=XQ5Hu&pf_rd_p=a424a707-7b70-4cc8-8e86-14651aa9290f&pf_rd_r=Z8ES2PCFH9TV5J62EGF6&pd_rd_r=0b663c56-9dc0-4fab-b7cd-2dfcd91d50a3&pd_rd_wg=1GjOY&ref_=pd_gw_exports_top_sellers_unrec&th=1\"\n",
    "# url use defined  variable (unifrom resource locator)\n",
    "web_page=read_html(url)\n",
    "#print(web_page)\n",
    "pname = html_nodes(web_page,'span#productTitle')\n",
    "# print the html\n",
    "pname = html_text(pname)\n",
    "print(pname)"
   ]
  },
  {
   "cell_type": "code",
   "execution_count": 4,
   "id": "59010217",
   "metadata": {},
   "outputs": [
    {
     "name": "stdout",
     "output_type": "stream",
     "text": [
      "[1] \"$589.47\"     \"$729.99\"     \"$589.47\"     \"$140.52\"     \"Page 1 of 1\"\n",
      "[6] \"Page 1 of 1\" \"Page 1 of 1\"\n"
     ]
    }
   ],
   "source": [
    "p_price = html_nodes(web_page,\"span.a-offscreen\")\n",
    "p_price=html_text(p_price)\n",
    "print(p_price)"
   ]
  },
  {
   "cell_type": "code",
   "execution_count": 9,
   "id": "da87598d",
   "metadata": {},
   "outputs": [
    {
     "name": "stdout",
     "output_type": "stream",
     "text": [
      "{html_document}\n",
      "<html lang=\"en\">\n",
      "[1] <head>\\n<link href=\"https://rukminim2.flixcart.com\" rel=\"preconnect\">\\n<l ...\n",
      "[2] <body>\\n<div id=\"container\"><div>\\n<div class=\"_1kfTjk\">\\n<div class=\"_1r ...\n"
     ]
    }
   ],
   "source": [
    "url=\"https://www.flipkart.com/search?q=mobiles&sid=tyy%2C4io&as=on&as-show=on&otracker=AS_QueryStore_OrganicAutoSuggest_1_2_na_na_na&otracker1=AS_QueryStore_OrganicAutoSuggest_1_2_na_na_na&as-pos=1&as-type=RECENT&suggestionId=mobiles%7CMobiles&requestId=6f8787df-71a1-4456-80da-cb631c6f14e2&as-searchtext=mo\"\n",
    "# To read html code fromm given url\n",
    "web_page1 = read_html(url)\n",
    "print(web_page1)"
   ]
  },
  {
   "cell_type": "code",
   "execution_count": 31,
   "id": "b7a2774d",
   "metadata": {},
   "outputs": [
    {
     "name": "stdout",
     "output_type": "stream",
     "text": [
      "[1] \"REDMI 9i Sport (Metallic Blue, 64 GB)\"\n"
     ]
    }
   ],
   "source": [
    "#<div class=\"_4rR01T\">realme Narzo 50A (Oxygen Green, 128 GB)</div>\n",
    "p_name = html_nodes(web_page1,\"div._4rR01T\")\n",
    "#p_name\n",
    "p_name = html_text(p_name)\n",
    "p_name = p_name[1]\n",
    "print(p_name)"
   ]
  },
  {
   "cell_type": "code",
   "execution_count": 33,
   "id": "ea0ac2fc",
   "metadata": {},
   "outputs": [
    {
     "name": "stdout",
     "output_type": "stream",
     "text": [
      "[1] \"<U+20B9>8,999\"\n"
     ]
    }
   ],
   "source": [
    "# Price\n",
    "price1= html_nodes(web_page1,\"div._30jeq3\")\n",
    "price1= html_text(price1)\n",
    "price1 = price1[1]\n",
    "print(price1)"
   ]
  },
  {
   "cell_type": "code",
   "execution_count": 34,
   "id": "048656d0",
   "metadata": {},
   "outputs": [
    {
     "name": "stdout",
     "output_type": "stream",
     "text": [
      "[1] \"4.4\"\n"
     ]
    }
   ],
   "source": [
    "# Rating \n",
    "rating = html_nodes(web_page1,\"div._3LWZlK\")\n",
    "rating = html_text(rating)\n",
    "ratings = rating[1]\n",
    "print(ratings)"
   ]
  },
  {
   "cell_type": "code",
   "execution_count": 39,
   "id": "9a789bc2",
   "metadata": {},
   "outputs": [
    {
     "name": "stdout",
     "output_type": "stream",
     "text": [
      "                           Product_Name Product_Price Product_rating\n",
      "1 REDMI 9i Sport (Metallic Blue, 64 GB) <U+20B9>8,999            4.4\n"
     ]
    }
   ],
   "source": [
    "# To store all descriptions of mobile in data frame\n",
    "df = data.frame(Product_Name=p_name,Product_Price=price1,Product_rating = ratings)\n",
    "print(df)"
   ]
  },
  {
   "cell_type": "code",
   "execution_count": 40,
   "id": "c08038a3",
   "metadata": {},
   "outputs": [],
   "source": [
    "# Create a csv file means to converts data from data frame to csv file\n",
    "write.csv(df,\"mobile.csv\") # Write.csv(dataframe_name,\"permanent filename\") "
   ]
  },
  {
   "cell_type": "code",
   "execution_count": 61,
   "id": "cc288efe",
   "metadata": {},
   "outputs": [
    {
     "name": "stdout",
     "output_type": "stream",
     "text": [
      "{html_document}\n",
      "<html lang=\"en\">\n",
      "[1] <head>\\n<link href=\"https://rukminim1.flixcart.com\" rel=\"preconnect\">\\n<l ...\n",
      "[2] <body>\\n<div id=\"container\"><div>\\n<div class=\"_1kfTjk\">\\n<div class=\"_1r ...\n"
     ]
    }
   ],
   "source": [
    "url1 = \"https://www.flipkart.com/search?q=mobiles&sid=tyy%2C4io&as=on&as-show=on&otracker=AS_QueryStore_OrganicAutoSuggest_1_2_na_na_na&otracker1=AS_QueryStore_OrganicAutoSuggest_1_2_na_na_na&as-pos=1&as-type=RECENT&suggestionId=mobiles%7CMobiles&requestId=6f8787df-71a1-4456-80da-cb631c6f14e2&as-searchtext=mo\"\n",
    "web_page2 = read_html(url1)\n",
    "print(web_page2)"
   ]
  },
  {
   "cell_type": "code",
   "execution_count": 70,
   "id": "212d46e3",
   "metadata": {},
   "outputs": [
    {
     "name": "stdout",
     "output_type": "stream",
     "text": [
      " [1] \"REDMI 9i Sport (Metallic Blue, 64 GB)\"   \n",
      " [2] \"realme Narzo 50A (Oxygen Green, 128 GB)\" \n",
      " [3] \"realme Narzo 50A (Oxygen Blue, 64 GB)\"   \n",
      " [4] \"POCO C31 (Royal Blue, 64 GB)\"            \n",
      " [5] \"REDMI 9i Sport (Coral Green, 64 GB)\"     \n",
      " [6] \"Infinix Hot 11S (Polar Black, 64 GB)\"    \n",
      " [7] \"realme Narzo 50A (Oxygen Blue, 128 GB)\"  \n",
      " [8] \"realme Narzo 50A (Oxygen Green, 64 GB)\"  \n",
      " [9] \"vivo T1 5G (Starlight Black, 128 GB)\"    \n",
      "[10] \"vivo T1 5G (Rainbow Fantasy, 128 GB)\"    \n",
      "[11] \"Infinix Hot 11S (Green Wave, 128 GB)\"    \n",
      "[12] \"Infinix Hot 11S (Silver Wave, 64 GB)\"    \n",
      "[13] \"Infinix Hot 11S (Green Wave, 64 GB)\"     \n",
      "[14] \"realme C20 (Cool Grey, 32 GB)\"           \n",
      "[15] \"realme C20 (Cool Blue, 32 GB)\"           \n",
      "[16] \"Infinix Hot 11S (Polar Black, 128 GB)\"   \n",
      "[17] \"Infinix Hot 11S (Silver Wave, 128 GB)\"   \n",
      "[18] \"Infinix Hot 11S (7° Purple, 128 GB)\"     \n",
      "[19] \"MOTOROLA E7 Power (Tahiti Blue, 64 GB)\"  \n",
      "[20] \"MOTOROLA G60 (Frosted Champagne, 128 GB)\"\n"
     ]
    }
   ],
   "source": [
    "# Product name\n",
    "p_name1 = html_nodes(web_page2,\"div._4rR01T\")\n",
    "p_name1 = html_text(p_name1)\n",
    "p_name1 = p_name1[1:20]\n",
    "print(p_name1)"
   ]
  },
  {
   "cell_type": "code",
   "execution_count": 71,
   "id": "9796faa5",
   "metadata": {},
   "outputs": [
    {
     "name": "stdout",
     "output_type": "stream",
     "text": [
      " [1] \"<U+20B9>8,999\" \"<U+20B9>12,549\" \"<U+20B9>11,549\" \"<U+20B9>9,499\" \"<U+20B9>8,999\" \"<U+20B9>10,999\" \"<U+20B9>12,549\"\n",
      " [8] \"<U+20B9>11,549\" \"<U+20B9>15,990\" \"<U+20B9>15,990\" \"<U+20B9>11,999\" \"<U+20B9>10,999\" \"<U+20B9>10,999\" \"<U+20B9>7,499\"\n",
      "[15] \"<U+20B9>7,499\" \"<U+20B9>11,999\" \"<U+20B9>11,999\" \"<U+20B9>11,999\" \"<U+20B9>9,049\" \"<U+20B9>17,999\"\n"
     ]
    }
   ],
   "source": [
    "# Product_price \n",
    "p_price1 = html_nodes(web_page2,\"div._30jeq3._1_WHN1\")\n",
    "p_price1 = html_text(p_price1)\n",
    "p_price1 = p_price1[1:20]\n",
    "print(p_price1)"
   ]
  },
  {
   "cell_type": "code",
   "execution_count": 72,
   "id": "8e488dc8",
   "metadata": {},
   "outputs": [
    {
     "name": "stdout",
     "output_type": "stream",
     "text": [
      " [1] \"4.4\" \"4.4\" \"4.4\" \"4.4\" \"4.4\" \"4.3\" \"4.4\" \"4.4\" \"4.4\" \"4.4\" \"4.3\" \"4.3\"\n",
      "[13] \"4.3\" \"4.4\" \"4.4\" \"4.3\" \"4.3\" \"4.3\" \"4.1\" \"4.2\"\n"
     ]
    }
   ],
   "source": [
    "# Product Rating\n",
    "p_rating = html_nodes(web_page2,\"div._3LWZlK\")\n",
    "p_rating = html_text(p_rating)\n",
    "p_rating= p_rating[1:20]\n",
    "print(p_rating)"
   ]
  },
  {
   "cell_type": "code",
   "execution_count": 76,
   "id": "0de79278",
   "metadata": {},
   "outputs": [
    {
     "name": "stdout",
     "output_type": "stream",
     "text": [
      "                               Product_Name  Product_Price Product_Rating\n",
      "1     REDMI 9i Sport (Metallic Blue, 64 GB)  <U+20B9>8,999            4.4\n",
      "2   realme Narzo 50A (Oxygen Green, 128 GB) <U+20B9>12,549            4.4\n",
      "3     realme Narzo 50A (Oxygen Blue, 64 GB) <U+20B9>11,549            4.4\n",
      "4              POCO C31 (Royal Blue, 64 GB)  <U+20B9>9,499            4.4\n",
      "5       REDMI 9i Sport (Coral Green, 64 GB)  <U+20B9>8,999            4.4\n",
      "6      Infinix Hot 11S (Polar Black, 64 GB) <U+20B9>10,999            4.3\n",
      "7    realme Narzo 50A (Oxygen Blue, 128 GB) <U+20B9>12,549            4.4\n",
      "8    realme Narzo 50A (Oxygen Green, 64 GB) <U+20B9>11,549            4.4\n",
      "9      vivo T1 5G (Starlight Black, 128 GB) <U+20B9>15,990            4.4\n",
      "10     vivo T1 5G (Rainbow Fantasy, 128 GB) <U+20B9>15,990            4.4\n",
      "11     Infinix Hot 11S (Green Wave, 128 GB) <U+20B9>11,999            4.3\n",
      "12     Infinix Hot 11S (Silver Wave, 64 GB) <U+20B9>10,999            4.3\n",
      "13      Infinix Hot 11S (Green Wave, 64 GB) <U+20B9>10,999            4.3\n",
      "14            realme C20 (Cool Grey, 32 GB)  <U+20B9>7,499            4.4\n",
      "15            realme C20 (Cool Blue, 32 GB)  <U+20B9>7,499            4.4\n",
      "16    Infinix Hot 11S (Polar Black, 128 GB) <U+20B9>11,999            4.3\n",
      "17    Infinix Hot 11S (Silver Wave, 128 GB) <U+20B9>11,999            4.3\n",
      "18      Infinix Hot 11S (7° Purple, 128 GB) <U+20B9>11,999            4.3\n",
      "19   MOTOROLA E7 Power (Tahiti Blue, 64 GB)  <U+20B9>9,049            4.1\n",
      "20 MOTOROLA G60 (Frosted Champagne, 128 GB) <U+20B9>17,999            4.2\n"
     ]
    }
   ],
   "source": [
    "# csv file\n",
    "mobiledataset = data.frame(Product_Name=p_name1,Product_Price=p_price1,Product_Rating=p_rating)\n",
    "print(mobiledataset)"
   ]
  },
  {
   "cell_type": "code",
   "execution_count": 77,
   "id": "1d7167a7",
   "metadata": {},
   "outputs": [],
   "source": [
    "# Create a csv file means to converts data from data frame to csv file\n",
    "write.csv(mobiledataset,\"mobiledataset.csv\") # Write.csv(dataframe_name,\"permanent filename\") "
   ]
  },
  {
   "cell_type": "code",
   "execution_count": null,
   "id": "49df3210",
   "metadata": {},
   "outputs": [],
   "source": []
  },
  {
   "cell_type": "code",
   "execution_count": null,
   "id": "e21d3835",
   "metadata": {},
   "outputs": [],
   "source": []
  }
 ],
 "metadata": {
  "kernelspec": {
   "display_name": "R",
   "language": "R",
   "name": "ir"
  },
  "language_info": {
   "codemirror_mode": "r",
   "file_extension": ".r",
   "mimetype": "text/x-r-source",
   "name": "R",
   "pygments_lexer": "r",
   "version": "4.1.2"
  }
 },
 "nbformat": 4,
 "nbformat_minor": 5
}
