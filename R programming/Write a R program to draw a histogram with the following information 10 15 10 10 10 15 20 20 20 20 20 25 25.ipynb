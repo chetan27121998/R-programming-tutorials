{
 "cells": [
  {
   "cell_type": "markdown",
   "id": "6dc70dbc",
   "metadata": {},
   "source": [
    "### Write a R program to draw a histogram with the following information:\n",
    "    10 15 10 10 10 15 20 20 20 20 20 25 25"
   ]
  },
  {
   "cell_type": "code",
   "execution_count": 3,
   "id": "4d4fad91",
   "metadata": {},
   "outputs": [
    {
     "data": {
      "text/html": [
       "<strong>png:</strong> 2"
      ],
      "text/latex": [
       "\\textbf{png:} 2"
      ],
      "text/markdown": [
       "**png:** 2"
      ],
      "text/plain": [
       "png \n",
       "  2 "
      ]
     },
     "metadata": {},
     "output_type": "display_data"
    }
   ],
   "source": [
    "# Create data for the graph.\n",
    "v <- c(10,15,10,10,10,15,20,20,20,20,20,25,25)\n",
    "\n",
    "# Give the chart file a name.\n",
    "png(file = \"histogram_lim_breaks.png\")\n",
    "\n",
    "# Create the histogram.\n",
    "hist(v,xlab = \"Weight\",col = \"green\",border = \"red\", xlim = c(0,40), ylim = c(0,5),\n",
    "   breaks = 5)\n",
    "\n",
    "# Save the file.\n",
    "dev.off()"
   ]
  },
  {
   "cell_type": "code",
   "execution_count": 3,
   "id": "f874d88e",
   "metadata": {},
   "outputs": [
    {
     "name": "stdout",
     "output_type": "stream",
     "text": [
      "\n",
      "  There is a binary version available but the source version is later:\n",
      "        binary source needs_compilation\n",
      "ggplot2  3.3.3  3.3.5             FALSE\n",
      "\n"
     ]
    },
    {
     "name": "stderr",
     "output_type": "stream",
     "text": [
      "installing the source package 'ggplot2'\n",
      "\n"
     ]
    }
   ],
   "source": [
    "# First the you need install the required library \n",
    "install.packages(\"ggplot2\")"
   ]
  },
  {
   "cell_type": "code",
   "execution_count": 4,
   "id": "5a691e0e",
   "metadata": {},
   "outputs": [],
   "source": [
    "# After the installation of library call the library \n",
    "library(ggplot2)"
   ]
  },
  {
   "cell_type": "code",
   "execution_count": null,
   "id": "91429dd8",
   "metadata": {},
   "outputs": [],
   "source": [
    "v <- c(10,15,10,10,10,15,20,20,20,20,20,25,25)\n"
   ]
  }
 ],
 "metadata": {
  "kernelspec": {
   "display_name": "R",
   "language": "R",
   "name": "ir"
  },
  "language_info": {
   "codemirror_mode": "r",
   "file_extension": ".r",
   "mimetype": "text/x-r-source",
   "name": "R",
   "pygments_lexer": "r",
   "version": "3.6.1"
  }
 },
 "nbformat": 4,
 "nbformat_minor": 5
}
